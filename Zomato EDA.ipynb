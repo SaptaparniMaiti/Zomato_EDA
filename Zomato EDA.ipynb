{
 "cells": [
  {
   "cell_type": "markdown",
   "id": "223f9bb6-0d18-4536-9072-b0393288d37d",
   "metadata": {},
   "source": [
    "# Introduction¶\n",
    "#### Exploratory Data Analysis (EDA) is a preliminary step of Machine Learning and is used extensively in this field. Although it is not necessary to perform EDA to build models, but it is definitely recommended as it helps to know the data better. If performed correctly, it gives us insights which are not easy to witness directly.\n",
    "\n",
    "#### In this notebook, I have performed a detailed analysis on  Zomato Delivery Operations Dataset from Zomato(link). This notebook can be used as a manual to perform basic to intermediate EDA on any dataset. Following are the things that you will learn from this project \n",
    "\n",
    "### 1.Knowing basic composition of data\n",
    "### 2.Removing duplicates\n",
    "### 3.Dealing with missing values\n",
    "### 4.Understanding features\n",
    "### 5.Plotting horizontal bar charts (multicolor)\n",
    "### 6.Using groupby, apply, and unique functions\n",
    "### 7.Scatter plot\n",
    "### 8.Word Cloud\n",
    "### 9.Box plot\n",
    "### 10.Density plot\n",
    "### 11.Bar Charts\n",
    "### 12.Drawing insights and conclusions from data\n"
   ]
  },
  {
   "cell_type": "markdown",
   "id": "a29823b9-06d0-4ca3-8486-ecfefd8433ce",
   "metadata": {},
   "source": [
    "# Project outline\n",
    "\n",
    "### ~ Importing\n",
    "### ~ Preprocessing\n",
    "       * Exploring data\n",
    "       * Removing duplicates\n",
    "       * Dealing with missing values\n",
    "       * Omitting not useful features"
   ]
  },
  {
   "cell_type": "markdown",
   "id": "83f492f1-4a6f-4a6e-9b1f-345b62cedf4e",
   "metadata": {},
   "source": [
    "# Importing:"
   ]
  },
  {
   "cell_type": "code",
   "execution_count": 109,
   "id": "849a57d3-6668-4452-9e5b-606a892a64c5",
   "metadata": {},
   "outputs": [],
   "source": [
    "import pandas as pd\n",
    "\n",
    "#--------------------------------------------------------------\n",
    "import matplotlib.pyplot as plt\n",
    "\n",
    "#--------------------------------------------------------------\n",
    "import seaborn as sns\n",
    "\n",
    "#--------------------------------------------------------------\n",
    "import numpy as np\n",
    "\n",
    "#--------------------------------------------------------------\n",
    "#from wordcloud import WordCloud\n",
    "#from wordcloud import STOPWORDS"
   ]
  },
  {
   "cell_type": "markdown",
   "id": "ff069248-8402-48df-ac2e-0c7703c2082d",
   "metadata": {},
   "source": [
    "# Loading Data:"
   ]
  },
  {
   "cell_type": "code",
   "execution_count": 111,
   "id": "eccba5a3-1f76-4cd8-9d3a-5a4559d9b1f5",
   "metadata": {},
   "outputs": [
    {
     "data": {
      "text/html": [
       "<div>\n",
       "<style scoped>\n",
       "    .dataframe tbody tr th:only-of-type {\n",
       "        vertical-align: middle;\n",
       "    }\n",
       "\n",
       "    .dataframe tbody tr th {\n",
       "        vertical-align: top;\n",
       "    }\n",
       "\n",
       "    .dataframe thead th {\n",
       "        text-align: right;\n",
       "    }\n",
       "</style>\n",
       "<table border=\"1\" class=\"dataframe\">\n",
       "  <thead>\n",
       "    <tr style=\"text-align: right;\">\n",
       "      <th></th>\n",
       "      <th>ID</th>\n",
       "      <th>Delivery_person_ID</th>\n",
       "      <th>Delivery_person_Age</th>\n",
       "      <th>Delivery_person_Ratings</th>\n",
       "      <th>Restaurant_latitude</th>\n",
       "      <th>Restaurant_longitude</th>\n",
       "      <th>Delivery_location_latitude</th>\n",
       "      <th>Delivery_location_longitude</th>\n",
       "      <th>Month</th>\n",
       "      <th>Order_Date</th>\n",
       "      <th>...</th>\n",
       "      <th>Time_Order_picked</th>\n",
       "      <th>Weather_conditions</th>\n",
       "      <th>Road_traffic_density</th>\n",
       "      <th>Vehicle_condition</th>\n",
       "      <th>Type_of_order</th>\n",
       "      <th>Type_of_vehicle</th>\n",
       "      <th>multiple_deliveries</th>\n",
       "      <th>Festival</th>\n",
       "      <th>City</th>\n",
       "      <th>Time_taken (min)</th>\n",
       "    </tr>\n",
       "  </thead>\n",
       "  <tbody>\n",
       "    <tr>\n",
       "      <th>0</th>\n",
       "      <td>0x4f0</td>\n",
       "      <td>MUMRES17DEL02</td>\n",
       "      <td>NaN</td>\n",
       "      <td>NaN</td>\n",
       "      <td>19.121999</td>\n",
       "      <td>72.908493</td>\n",
       "      <td>19.201999</td>\n",
       "      <td>72.988493</td>\n",
       "      <td>4</td>\n",
       "      <td>06-04-2022</td>\n",
       "      <td>...</td>\n",
       "      <td>18:35</td>\n",
       "      <td>Cloudy</td>\n",
       "      <td>Medium</td>\n",
       "      <td>1</td>\n",
       "      <td>Drinks</td>\n",
       "      <td>scooter</td>\n",
       "      <td>1.0</td>\n",
       "      <td>No</td>\n",
       "      <td>Metropolitian</td>\n",
       "      <td>33</td>\n",
       "    </tr>\n",
       "    <tr>\n",
       "      <th>1</th>\n",
       "      <td>0xa9f</td>\n",
       "      <td>BANGRES13DEL01</td>\n",
       "      <td>NaN</td>\n",
       "      <td>NaN</td>\n",
       "      <td>12.935662</td>\n",
       "      <td>77.614130</td>\n",
       "      <td>12.975662</td>\n",
       "      <td>77.654130</td>\n",
       "      <td>3</td>\n",
       "      <td>11-03-2022</td>\n",
       "      <td>...</td>\n",
       "      <td>15:30</td>\n",
       "      <td>NaN</td>\n",
       "      <td>NaN</td>\n",
       "      <td>1</td>\n",
       "      <td>Drinks</td>\n",
       "      <td>scooter</td>\n",
       "      <td>0.0</td>\n",
       "      <td>No</td>\n",
       "      <td>Metropolitian</td>\n",
       "      <td>19</td>\n",
       "    </tr>\n",
       "    <tr>\n",
       "      <th>2</th>\n",
       "      <td>0x6e2</td>\n",
       "      <td>VADRES06DEL01</td>\n",
       "      <td>NaN</td>\n",
       "      <td>NaN</td>\n",
       "      <td>22.312790</td>\n",
       "      <td>73.170283</td>\n",
       "      <td>22.422790</td>\n",
       "      <td>73.280283</td>\n",
       "      <td>4</td>\n",
       "      <td>02-04-2022</td>\n",
       "      <td>...</td>\n",
       "      <td>18:25</td>\n",
       "      <td>NaN</td>\n",
       "      <td>NaN</td>\n",
       "      <td>3</td>\n",
       "      <td>Snack</td>\n",
       "      <td>electric_scooter</td>\n",
       "      <td>0.0</td>\n",
       "      <td>No</td>\n",
       "      <td>Metropolitian</td>\n",
       "      <td>25</td>\n",
       "    </tr>\n",
       "    <tr>\n",
       "      <th>3</th>\n",
       "      <td>0xd0e5</td>\n",
       "      <td>KOLRES17DEL03</td>\n",
       "      <td>23.0</td>\n",
       "      <td>NaN</td>\n",
       "      <td>22.569358</td>\n",
       "      <td>88.433452</td>\n",
       "      <td>22.599358</td>\n",
       "      <td>88.463452</td>\n",
       "      <td>2</td>\n",
       "      <td>17-02-2022</td>\n",
       "      <td>...</td>\n",
       "      <td>23:35</td>\n",
       "      <td>Sunny</td>\n",
       "      <td>Low</td>\n",
       "      <td>0</td>\n",
       "      <td>Drinks</td>\n",
       "      <td>motorcycle</td>\n",
       "      <td>0.0</td>\n",
       "      <td>No</td>\n",
       "      <td>Metropolitian</td>\n",
       "      <td>15</td>\n",
       "    </tr>\n",
       "    <tr>\n",
       "      <th>4</th>\n",
       "      <td>0x1ec7</td>\n",
       "      <td>PUNERES05DEL03</td>\n",
       "      <td>NaN</td>\n",
       "      <td>NaN</td>\n",
       "      <td>18.543626</td>\n",
       "      <td>73.905101</td>\n",
       "      <td>18.573626</td>\n",
       "      <td>73.935101</td>\n",
       "      <td>3</td>\n",
       "      <td>09-03-2022</td>\n",
       "      <td>...</td>\n",
       "      <td>23:40</td>\n",
       "      <td>Stormy</td>\n",
       "      <td>Low</td>\n",
       "      <td>2</td>\n",
       "      <td>Snack</td>\n",
       "      <td>scooter</td>\n",
       "      <td>0.0</td>\n",
       "      <td>No</td>\n",
       "      <td>NaN</td>\n",
       "      <td>19</td>\n",
       "    </tr>\n",
       "    <tr>\n",
       "      <th>...</th>\n",
       "      <td>...</td>\n",
       "      <td>...</td>\n",
       "      <td>...</td>\n",
       "      <td>...</td>\n",
       "      <td>...</td>\n",
       "      <td>...</td>\n",
       "      <td>...</td>\n",
       "      <td>...</td>\n",
       "      <td>...</td>\n",
       "      <td>...</td>\n",
       "      <td>...</td>\n",
       "      <td>...</td>\n",
       "      <td>...</td>\n",
       "      <td>...</td>\n",
       "      <td>...</td>\n",
       "      <td>...</td>\n",
       "      <td>...</td>\n",
       "      <td>...</td>\n",
       "      <td>...</td>\n",
       "      <td>...</td>\n",
       "      <td>...</td>\n",
       "    </tr>\n",
       "    <tr>\n",
       "      <th>45579</th>\n",
       "      <td>0x1144</td>\n",
       "      <td>MYSRES05DEL01</td>\n",
       "      <td>15.0</td>\n",
       "      <td>1.0</td>\n",
       "      <td>12.323978</td>\n",
       "      <td>76.627961</td>\n",
       "      <td>12.433978</td>\n",
       "      <td>76.737961</td>\n",
       "      <td>3</td>\n",
       "      <td>29-03-2022</td>\n",
       "      <td>...</td>\n",
       "      <td>22:10</td>\n",
       "      <td>NaN</td>\n",
       "      <td>NaN</td>\n",
       "      <td>3</td>\n",
       "      <td>Snack</td>\n",
       "      <td>electric_scooter</td>\n",
       "      <td>0.0</td>\n",
       "      <td>No</td>\n",
       "      <td>Metropolitian</td>\n",
       "      <td>30</td>\n",
       "    </tr>\n",
       "    <tr>\n",
       "      <th>45580</th>\n",
       "      <td>0x442</td>\n",
       "      <td>CHENRES16DEL02</td>\n",
       "      <td>15.0</td>\n",
       "      <td>1.0</td>\n",
       "      <td>-13.049645</td>\n",
       "      <td>-80.242268</td>\n",
       "      <td>13.129645</td>\n",
       "      <td>80.322268</td>\n",
       "      <td>3</td>\n",
       "      <td>08-03-2022</td>\n",
       "      <td>...</td>\n",
       "      <td>23:05</td>\n",
       "      <td>NaN</td>\n",
       "      <td>NaN</td>\n",
       "      <td>3</td>\n",
       "      <td>Snack</td>\n",
       "      <td>bicycle</td>\n",
       "      <td>0.0</td>\n",
       "      <td>No</td>\n",
       "      <td>Metropolitian</td>\n",
       "      <td>25</td>\n",
       "    </tr>\n",
       "    <tr>\n",
       "      <th>45581</th>\n",
       "      <td>0x49c</td>\n",
       "      <td>COIMBRES14DEL02</td>\n",
       "      <td>15.0</td>\n",
       "      <td>1.0</td>\n",
       "      <td>11.003681</td>\n",
       "      <td>76.975525</td>\n",
       "      <td>11.133681</td>\n",
       "      <td>77.105525</td>\n",
       "      <td>4</td>\n",
       "      <td>02-04-2022</td>\n",
       "      <td>...</td>\n",
       "      <td>23:45</td>\n",
       "      <td>NaN</td>\n",
       "      <td>NaN</td>\n",
       "      <td>3</td>\n",
       "      <td>Meal</td>\n",
       "      <td>scooter</td>\n",
       "      <td>0.0</td>\n",
       "      <td>No</td>\n",
       "      <td>Metropolitian</td>\n",
       "      <td>25</td>\n",
       "    </tr>\n",
       "    <tr>\n",
       "      <th>45582</th>\n",
       "      <td>0x2314</td>\n",
       "      <td>VADRES04DEL01</td>\n",
       "      <td>15.0</td>\n",
       "      <td>1.0</td>\n",
       "      <td>0.000000</td>\n",
       "      <td>0.000000</td>\n",
       "      <td>0.070000</td>\n",
       "      <td>0.070000</td>\n",
       "      <td>3</td>\n",
       "      <td>14-03-2022</td>\n",
       "      <td>...</td>\n",
       "      <td>17:40</td>\n",
       "      <td>NaN</td>\n",
       "      <td>NaN</td>\n",
       "      <td>3</td>\n",
       "      <td>Drinks</td>\n",
       "      <td>scooter</td>\n",
       "      <td>0.0</td>\n",
       "      <td>No</td>\n",
       "      <td>Metropolitian</td>\n",
       "      <td>34</td>\n",
       "    </tr>\n",
       "    <tr>\n",
       "      <th>45583</th>\n",
       "      <td>0x8d4</td>\n",
       "      <td>CHENRES02DEL02</td>\n",
       "      <td>15.0</td>\n",
       "      <td>1.0</td>\n",
       "      <td>13.086438</td>\n",
       "      <td>80.220672</td>\n",
       "      <td>13.216439</td>\n",
       "      <td>80.350672</td>\n",
       "      <td>3</td>\n",
       "      <td>18-03-2022</td>\n",
       "      <td>...</td>\n",
       "      <td>0.75</td>\n",
       "      <td>NaN</td>\n",
       "      <td>NaN</td>\n",
       "      <td>3</td>\n",
       "      <td>Snack</td>\n",
       "      <td>electric_scooter</td>\n",
       "      <td>1.0</td>\n",
       "      <td>No</td>\n",
       "      <td>Urban</td>\n",
       "      <td>26</td>\n",
       "    </tr>\n",
       "  </tbody>\n",
       "</table>\n",
       "<p>45584 rows × 21 columns</p>\n",
       "</div>"
      ],
      "text/plain": [
       "           ID Delivery_person_ID  Delivery_person_Age  \\\n",
       "0       0x4f0      MUMRES17DEL02                  NaN   \n",
       "1       0xa9f     BANGRES13DEL01                  NaN   \n",
       "2       0x6e2      VADRES06DEL01                  NaN   \n",
       "3      0xd0e5      KOLRES17DEL03                 23.0   \n",
       "4      0x1ec7     PUNERES05DEL03                  NaN   \n",
       "...       ...                ...                  ...   \n",
       "45579  0x1144      MYSRES05DEL01                 15.0   \n",
       "45580   0x442     CHENRES16DEL02                 15.0   \n",
       "45581   0x49c    COIMBRES14DEL02                 15.0   \n",
       "45582  0x2314      VADRES04DEL01                 15.0   \n",
       "45583   0x8d4     CHENRES02DEL02                 15.0   \n",
       "\n",
       "       Delivery_person_Ratings  Restaurant_latitude  Restaurant_longitude  \\\n",
       "0                          NaN            19.121999             72.908493   \n",
       "1                          NaN            12.935662             77.614130   \n",
       "2                          NaN            22.312790             73.170283   \n",
       "3                          NaN            22.569358             88.433452   \n",
       "4                          NaN            18.543626             73.905101   \n",
       "...                        ...                  ...                   ...   \n",
       "45579                      1.0            12.323978             76.627961   \n",
       "45580                      1.0           -13.049645            -80.242268   \n",
       "45581                      1.0            11.003681             76.975525   \n",
       "45582                      1.0             0.000000              0.000000   \n",
       "45583                      1.0            13.086438             80.220672   \n",
       "\n",
       "       Delivery_location_latitude  Delivery_location_longitude  Month  \\\n",
       "0                       19.201999                    72.988493      4   \n",
       "1                       12.975662                    77.654130      3   \n",
       "2                       22.422790                    73.280283      4   \n",
       "3                       22.599358                    88.463452      2   \n",
       "4                       18.573626                    73.935101      3   \n",
       "...                           ...                          ...    ...   \n",
       "45579                   12.433978                    76.737961      3   \n",
       "45580                   13.129645                    80.322268      3   \n",
       "45581                   11.133681                    77.105525      4   \n",
       "45582                    0.070000                     0.070000      3   \n",
       "45583                   13.216439                    80.350672      3   \n",
       "\n",
       "       Order_Date  ... Time_Order_picked Weather_conditions  \\\n",
       "0      06-04-2022  ...             18:35             Cloudy   \n",
       "1      11-03-2022  ...             15:30                NaN   \n",
       "2      02-04-2022  ...             18:25                NaN   \n",
       "3      17-02-2022  ...             23:35              Sunny   \n",
       "4      09-03-2022  ...             23:40             Stormy   \n",
       "...           ...  ...               ...                ...   \n",
       "45579  29-03-2022  ...             22:10                NaN   \n",
       "45580  08-03-2022  ...             23:05                NaN   \n",
       "45581  02-04-2022  ...             23:45                NaN   \n",
       "45582  14-03-2022  ...             17:40                NaN   \n",
       "45583  18-03-2022  ...              0.75                NaN   \n",
       "\n",
       "      Road_traffic_density Vehicle_condition  Type_of_order   Type_of_vehicle  \\\n",
       "0                   Medium                 1         Drinks           scooter   \n",
       "1                      NaN                 1         Drinks           scooter   \n",
       "2                      NaN                 3          Snack  electric_scooter   \n",
       "3                      Low                 0         Drinks        motorcycle   \n",
       "4                      Low                 2          Snack           scooter   \n",
       "...                    ...               ...            ...               ...   \n",
       "45579                  NaN                 3          Snack  electric_scooter   \n",
       "45580                  NaN                 3          Snack           bicycle   \n",
       "45581                  NaN                 3           Meal           scooter   \n",
       "45582                  NaN                 3         Drinks           scooter   \n",
       "45583                  NaN                 3          Snack  electric_scooter   \n",
       "\n",
       "      multiple_deliveries  Festival           City Time_taken (min)  \n",
       "0                     1.0        No  Metropolitian               33  \n",
       "1                     0.0        No  Metropolitian               19  \n",
       "2                     0.0        No  Metropolitian               25  \n",
       "3                     0.0        No  Metropolitian               15  \n",
       "4                     0.0        No            NaN               19  \n",
       "...                   ...       ...            ...              ...  \n",
       "45579                 0.0        No  Metropolitian               30  \n",
       "45580                 0.0        No  Metropolitian               25  \n",
       "45581                 0.0        No  Metropolitian               25  \n",
       "45582                 0.0        No  Metropolitian               34  \n",
       "45583                 1.0        No          Urban               26  \n",
       "\n",
       "[45584 rows x 21 columns]"
      ]
     },
     "execution_count": 111,
     "metadata": {},
     "output_type": "execute_result"
    }
   ],
   "source": [
    "data = pd.read_csv(\"C:\\data\\Zomato_Dataset.csv\")\n",
    "data"
   ]
  },
  {
   "cell_type": "markdown",
   "id": "240cb0ab-1363-4814-a62b-6e2d7cf27625",
   "metadata": {},
   "source": [
    "# Understanding Features:\n",
    "\n",
    "##### ID: Unique identifier for each delivery.\n",
    "##### Delivery_person_Age: Age of the delivery person.\n",
    "##### Restaurant_latitude: Latitude of the restaurant.\n",
    "##### Restaurant_longitude: Longitude of the restaurant.\n",
    "##### Delivery_location_longitude: Longitude of the delivery location.\n",
    "##### Order_Date: Date of the order.\n",
    "##### Time_Ordered: Time the order was placed\n",
    "##### Weather_conditions: Weather conditions at the time of delivery.\n",
    "##### Road_traffic_density: Density of road traffic during delivery.\n",
    "##### Vehicle_condition: Condition of the delivery vehicle.\n",
    "##### Type_of_order: Type of order (e.g., dine-in, takeaway, delivery).\n",
    "##### Type_of_vehicle: Type of vehicle used for delivery.\n",
    "##### Multiple_deliveries: Indicator of whether multiple deliveries were made in the same trip.\n",
    "##### Festival: Indicator of whether the delivery coincided with a festival.\n",
    "##### City: City where the delivery took place.\n",
    "##### Time_taken (min): Time taken for delivery in minutes."
   ]
  },
  {
   "cell_type": "markdown",
   "id": "93812de6-646f-40fc-8ee8-5c0fd15e29dc",
   "metadata": {},
   "source": [
    "# Preprocessing"
   ]
  },
  {
   "cell_type": "markdown",
   "id": "5b880b3f-cf1a-4228-bf43-e5a1738d6c7c",
   "metadata": {},
   "source": [
    "## Exploring data"
   ]
  },
  {
   "cell_type": "code",
   "execution_count": 114,
   "id": "921377aa-fd2b-45d9-b2a2-818d344f8fa2",
   "metadata": {},
   "outputs": [
    {
     "name": "stdout",
     "output_type": "stream",
     "text": [
      "<class 'pandas.core.frame.DataFrame'>\n",
      "RangeIndex: 45584 entries, 0 to 45583\n",
      "Data columns (total 21 columns):\n",
      " #   Column                       Non-Null Count  Dtype  \n",
      "---  ------                       --------------  -----  \n",
      " 0   ID                           45584 non-null  object \n",
      " 1   Delivery_person_ID           45584 non-null  object \n",
      " 2   Delivery_person_Age          43730 non-null  float64\n",
      " 3   Delivery_person_Ratings      43676 non-null  float64\n",
      " 4   Restaurant_latitude          45584 non-null  float64\n",
      " 5   Restaurant_longitude         45584 non-null  float64\n",
      " 6   Delivery_location_latitude   45584 non-null  float64\n",
      " 7   Delivery_location_longitude  45584 non-null  float64\n",
      " 8   Month                        45584 non-null  int64  \n",
      " 9   Order_Date                   45584 non-null  object \n",
      " 10  Time_Orderd                  43853 non-null  object \n",
      " 11  Time_Order_picked            45584 non-null  object \n",
      " 12  Weather_conditions           44968 non-null  object \n",
      " 13  Road_traffic_density         44983 non-null  object \n",
      " 14  Vehicle_condition            45584 non-null  int64  \n",
      " 15  Type_of_order                45584 non-null  object \n",
      " 16  Type_of_vehicle              45584 non-null  object \n",
      " 17  multiple_deliveries          44591 non-null  float64\n",
      " 18  Festival                     45356 non-null  object \n",
      " 19  City                         44384 non-null  object \n",
      " 20  Time_taken (min)             45584 non-null  int64  \n",
      "dtypes: float64(7), int64(3), object(11)\n",
      "memory usage: 7.3+ MB\n"
     ]
    }
   ],
   "source": [
    "data.info()"
   ]
  },
  {
   "cell_type": "markdown",
   "id": "4ed43a80-7217-4ab9-a3da-05ffe61046f5",
   "metadata": {},
   "source": [
    "Observation:\n",
    "~ In the dataset there are 45584 data entries. ~ There are several empty values in Delivery person age column. ~ There are also some null values in Delivery person ratings. ~ Some data are not given in Time orderd column. ~ Weather condition is also not mentioned in several places. ~ City is not mentioned in several columns."
   ]
  },
  {
   "cell_type": "code",
   "execution_count": 115,
   "id": "cc4b9fca-bbae-4782-ab38-cd3d44a293a9",
   "metadata": {},
   "outputs": [
    {
     "data": {
      "text/html": [
       "<div>\n",
       "<style scoped>\n",
       "    .dataframe tbody tr th:only-of-type {\n",
       "        vertical-align: middle;\n",
       "    }\n",
       "\n",
       "    .dataframe tbody tr th {\n",
       "        vertical-align: top;\n",
       "    }\n",
       "\n",
       "    .dataframe thead th {\n",
       "        text-align: right;\n",
       "    }\n",
       "</style>\n",
       "<table border=\"1\" class=\"dataframe\">\n",
       "  <thead>\n",
       "    <tr style=\"text-align: right;\">\n",
       "      <th></th>\n",
       "      <th>ID</th>\n",
       "      <th>Delivery_person_ID</th>\n",
       "      <th>Delivery_person_Age</th>\n",
       "      <th>Delivery_person_Ratings</th>\n",
       "      <th>Restaurant_latitude</th>\n",
       "      <th>Restaurant_longitude</th>\n",
       "      <th>Delivery_location_latitude</th>\n",
       "      <th>Delivery_location_longitude</th>\n",
       "      <th>Month</th>\n",
       "      <th>Order_Date</th>\n",
       "      <th>...</th>\n",
       "      <th>Time_Order_picked</th>\n",
       "      <th>Weather_conditions</th>\n",
       "      <th>Road_traffic_density</th>\n",
       "      <th>Vehicle_condition</th>\n",
       "      <th>Type_of_order</th>\n",
       "      <th>Type_of_vehicle</th>\n",
       "      <th>multiple_deliveries</th>\n",
       "      <th>Festival</th>\n",
       "      <th>City</th>\n",
       "      <th>Time_taken (min)</th>\n",
       "    </tr>\n",
       "  </thead>\n",
       "  <tbody>\n",
       "    <tr>\n",
       "      <th>0</th>\n",
       "      <td>0x4f0</td>\n",
       "      <td>MUMRES17DEL02</td>\n",
       "      <td>NaN</td>\n",
       "      <td>NaN</td>\n",
       "      <td>19.121999</td>\n",
       "      <td>72.908493</td>\n",
       "      <td>19.201999</td>\n",
       "      <td>72.988493</td>\n",
       "      <td>4</td>\n",
       "      <td>06-04-2022</td>\n",
       "      <td>...</td>\n",
       "      <td>18:35</td>\n",
       "      <td>Cloudy</td>\n",
       "      <td>Medium</td>\n",
       "      <td>1</td>\n",
       "      <td>Drinks</td>\n",
       "      <td>scooter</td>\n",
       "      <td>1.0</td>\n",
       "      <td>No</td>\n",
       "      <td>Metropolitian</td>\n",
       "      <td>33</td>\n",
       "    </tr>\n",
       "    <tr>\n",
       "      <th>1</th>\n",
       "      <td>0xa9f</td>\n",
       "      <td>BANGRES13DEL01</td>\n",
       "      <td>NaN</td>\n",
       "      <td>NaN</td>\n",
       "      <td>12.935662</td>\n",
       "      <td>77.614130</td>\n",
       "      <td>12.975662</td>\n",
       "      <td>77.654130</td>\n",
       "      <td>3</td>\n",
       "      <td>11-03-2022</td>\n",
       "      <td>...</td>\n",
       "      <td>15:30</td>\n",
       "      <td>NaN</td>\n",
       "      <td>NaN</td>\n",
       "      <td>1</td>\n",
       "      <td>Drinks</td>\n",
       "      <td>scooter</td>\n",
       "      <td>0.0</td>\n",
       "      <td>No</td>\n",
       "      <td>Metropolitian</td>\n",
       "      <td>19</td>\n",
       "    </tr>\n",
       "    <tr>\n",
       "      <th>2</th>\n",
       "      <td>0x6e2</td>\n",
       "      <td>VADRES06DEL01</td>\n",
       "      <td>NaN</td>\n",
       "      <td>NaN</td>\n",
       "      <td>22.312790</td>\n",
       "      <td>73.170283</td>\n",
       "      <td>22.422790</td>\n",
       "      <td>73.280283</td>\n",
       "      <td>4</td>\n",
       "      <td>02-04-2022</td>\n",
       "      <td>...</td>\n",
       "      <td>18:25</td>\n",
       "      <td>NaN</td>\n",
       "      <td>NaN</td>\n",
       "      <td>3</td>\n",
       "      <td>Snack</td>\n",
       "      <td>electric_scooter</td>\n",
       "      <td>0.0</td>\n",
       "      <td>No</td>\n",
       "      <td>Metropolitian</td>\n",
       "      <td>25</td>\n",
       "    </tr>\n",
       "    <tr>\n",
       "      <th>3</th>\n",
       "      <td>0xd0e5</td>\n",
       "      <td>KOLRES17DEL03</td>\n",
       "      <td>23.0</td>\n",
       "      <td>NaN</td>\n",
       "      <td>22.569358</td>\n",
       "      <td>88.433452</td>\n",
       "      <td>22.599358</td>\n",
       "      <td>88.463452</td>\n",
       "      <td>2</td>\n",
       "      <td>17-02-2022</td>\n",
       "      <td>...</td>\n",
       "      <td>23:35</td>\n",
       "      <td>Sunny</td>\n",
       "      <td>Low</td>\n",
       "      <td>0</td>\n",
       "      <td>Drinks</td>\n",
       "      <td>motorcycle</td>\n",
       "      <td>0.0</td>\n",
       "      <td>No</td>\n",
       "      <td>Metropolitian</td>\n",
       "      <td>15</td>\n",
       "    </tr>\n",
       "    <tr>\n",
       "      <th>4</th>\n",
       "      <td>0x1ec7</td>\n",
       "      <td>PUNERES05DEL03</td>\n",
       "      <td>NaN</td>\n",
       "      <td>NaN</td>\n",
       "      <td>18.543626</td>\n",
       "      <td>73.905101</td>\n",
       "      <td>18.573626</td>\n",
       "      <td>73.935101</td>\n",
       "      <td>3</td>\n",
       "      <td>09-03-2022</td>\n",
       "      <td>...</td>\n",
       "      <td>23:40</td>\n",
       "      <td>Stormy</td>\n",
       "      <td>Low</td>\n",
       "      <td>2</td>\n",
       "      <td>Snack</td>\n",
       "      <td>scooter</td>\n",
       "      <td>0.0</td>\n",
       "      <td>No</td>\n",
       "      <td>NaN</td>\n",
       "      <td>19</td>\n",
       "    </tr>\n",
       "    <tr>\n",
       "      <th>5</th>\n",
       "      <td>0x1b58</td>\n",
       "      <td>JAPRES03DEL01</td>\n",
       "      <td>NaN</td>\n",
       "      <td>NaN</td>\n",
       "      <td>26.913483</td>\n",
       "      <td>75.803139</td>\n",
       "      <td>26.983483</td>\n",
       "      <td>75.873139</td>\n",
       "      <td>3</td>\n",
       "      <td>12-03-2022</td>\n",
       "      <td>...</td>\n",
       "      <td>17:50</td>\n",
       "      <td>Sandstorms</td>\n",
       "      <td>Medium</td>\n",
       "      <td>0</td>\n",
       "      <td>Drinks</td>\n",
       "      <td>motorcycle</td>\n",
       "      <td>0.0</td>\n",
       "      <td>No</td>\n",
       "      <td>Metropolitian</td>\n",
       "      <td>43</td>\n",
       "    </tr>\n",
       "    <tr>\n",
       "      <th>6</th>\n",
       "      <td>0x1b5b</td>\n",
       "      <td>RANCHIRES14DEL01</td>\n",
       "      <td>NaN</td>\n",
       "      <td>NaN</td>\n",
       "      <td>0.000000</td>\n",
       "      <td>0.000000</td>\n",
       "      <td>0.070000</td>\n",
       "      <td>0.070000</td>\n",
       "      <td>3</td>\n",
       "      <td>02-03-2022</td>\n",
       "      <td>...</td>\n",
       "      <td>20:50</td>\n",
       "      <td>Sandstorms</td>\n",
       "      <td>Jam</td>\n",
       "      <td>1</td>\n",
       "      <td>Snack</td>\n",
       "      <td>scooter</td>\n",
       "      <td>0.0</td>\n",
       "      <td>No</td>\n",
       "      <td>Metropolitian</td>\n",
       "      <td>24</td>\n",
       "    </tr>\n",
       "    <tr>\n",
       "      <th>7</th>\n",
       "      <td>0x1b50</td>\n",
       "      <td>PUNERES16DEL01</td>\n",
       "      <td>NaN</td>\n",
       "      <td>NaN</td>\n",
       "      <td>18.536718</td>\n",
       "      <td>73.830327</td>\n",
       "      <td>18.646718</td>\n",
       "      <td>73.940327</td>\n",
       "      <td>3</td>\n",
       "      <td>08-03-2022</td>\n",
       "      <td>...</td>\n",
       "      <td>21:25</td>\n",
       "      <td>NaN</td>\n",
       "      <td>NaN</td>\n",
       "      <td>3</td>\n",
       "      <td>Buffet</td>\n",
       "      <td>motorcycle</td>\n",
       "      <td>1.0</td>\n",
       "      <td>Yes</td>\n",
       "      <td>Urban</td>\n",
       "      <td>43</td>\n",
       "    </tr>\n",
       "    <tr>\n",
       "      <th>8</th>\n",
       "      <td>0xe76</td>\n",
       "      <td>CHENRES06DEL02</td>\n",
       "      <td>NaN</td>\n",
       "      <td>NaN</td>\n",
       "      <td>13.054347</td>\n",
       "      <td>80.257221</td>\n",
       "      <td>13.104347</td>\n",
       "      <td>80.307221</td>\n",
       "      <td>3</td>\n",
       "      <td>15-03-2022</td>\n",
       "      <td>...</td>\n",
       "      <td>18:40</td>\n",
       "      <td>Cloudy</td>\n",
       "      <td>Medium</td>\n",
       "      <td>1</td>\n",
       "      <td>Snack</td>\n",
       "      <td>scooter</td>\n",
       "      <td>1.0</td>\n",
       "      <td>No</td>\n",
       "      <td>Urban</td>\n",
       "      <td>19</td>\n",
       "    </tr>\n",
       "    <tr>\n",
       "      <th>9</th>\n",
       "      <td>0x4db</td>\n",
       "      <td>PUNERES02DEL03</td>\n",
       "      <td>NaN</td>\n",
       "      <td>NaN</td>\n",
       "      <td>-18.551440</td>\n",
       "      <td>-73.804855</td>\n",
       "      <td>18.611440</td>\n",
       "      <td>73.864855</td>\n",
       "      <td>3</td>\n",
       "      <td>05-03-2022</td>\n",
       "      <td>...</td>\n",
       "      <td>22:05</td>\n",
       "      <td>Stormy</td>\n",
       "      <td>Jam</td>\n",
       "      <td>2</td>\n",
       "      <td>Meal</td>\n",
       "      <td>scooter</td>\n",
       "      <td>0.0</td>\n",
       "      <td>No</td>\n",
       "      <td>Urban</td>\n",
       "      <td>12</td>\n",
       "    </tr>\n",
       "  </tbody>\n",
       "</table>\n",
       "<p>10 rows × 21 columns</p>\n",
       "</div>"
      ],
      "text/plain": [
       "       ID Delivery_person_ID  Delivery_person_Age  Delivery_person_Ratings  \\\n",
       "0   0x4f0      MUMRES17DEL02                  NaN                      NaN   \n",
       "1   0xa9f     BANGRES13DEL01                  NaN                      NaN   \n",
       "2   0x6e2      VADRES06DEL01                  NaN                      NaN   \n",
       "3  0xd0e5      KOLRES17DEL03                 23.0                      NaN   \n",
       "4  0x1ec7     PUNERES05DEL03                  NaN                      NaN   \n",
       "5  0x1b58      JAPRES03DEL01                  NaN                      NaN   \n",
       "6  0x1b5b   RANCHIRES14DEL01                  NaN                      NaN   \n",
       "7  0x1b50     PUNERES16DEL01                  NaN                      NaN   \n",
       "8   0xe76     CHENRES06DEL02                  NaN                      NaN   \n",
       "9   0x4db     PUNERES02DEL03                  NaN                      NaN   \n",
       "\n",
       "   Restaurant_latitude  Restaurant_longitude  Delivery_location_latitude  \\\n",
       "0            19.121999             72.908493                   19.201999   \n",
       "1            12.935662             77.614130                   12.975662   \n",
       "2            22.312790             73.170283                   22.422790   \n",
       "3            22.569358             88.433452                   22.599358   \n",
       "4            18.543626             73.905101                   18.573626   \n",
       "5            26.913483             75.803139                   26.983483   \n",
       "6             0.000000              0.000000                    0.070000   \n",
       "7            18.536718             73.830327                   18.646718   \n",
       "8            13.054347             80.257221                   13.104347   \n",
       "9           -18.551440            -73.804855                   18.611440   \n",
       "\n",
       "   Delivery_location_longitude  Month  Order_Date  ... Time_Order_picked  \\\n",
       "0                    72.988493      4  06-04-2022  ...             18:35   \n",
       "1                    77.654130      3  11-03-2022  ...             15:30   \n",
       "2                    73.280283      4  02-04-2022  ...             18:25   \n",
       "3                    88.463452      2  17-02-2022  ...             23:35   \n",
       "4                    73.935101      3  09-03-2022  ...             23:40   \n",
       "5                    75.873139      3  12-03-2022  ...             17:50   \n",
       "6                     0.070000      3  02-03-2022  ...             20:50   \n",
       "7                    73.940327      3  08-03-2022  ...             21:25   \n",
       "8                    80.307221      3  15-03-2022  ...             18:40   \n",
       "9                    73.864855      3  05-03-2022  ...             22:05   \n",
       "\n",
       "  Weather_conditions Road_traffic_density Vehicle_condition  Type_of_order  \\\n",
       "0             Cloudy               Medium                 1         Drinks   \n",
       "1                NaN                  NaN                 1         Drinks   \n",
       "2                NaN                  NaN                 3          Snack   \n",
       "3              Sunny                  Low                 0         Drinks   \n",
       "4             Stormy                  Low                 2          Snack   \n",
       "5         Sandstorms               Medium                 0         Drinks   \n",
       "6         Sandstorms                  Jam                 1          Snack   \n",
       "7                NaN                  NaN                 3         Buffet   \n",
       "8             Cloudy               Medium                 1          Snack   \n",
       "9             Stormy                  Jam                 2           Meal   \n",
       "\n",
       "    Type_of_vehicle multiple_deliveries  Festival           City  \\\n",
       "0           scooter                 1.0        No  Metropolitian   \n",
       "1           scooter                 0.0        No  Metropolitian   \n",
       "2  electric_scooter                 0.0        No  Metropolitian   \n",
       "3        motorcycle                 0.0        No  Metropolitian   \n",
       "4           scooter                 0.0        No            NaN   \n",
       "5        motorcycle                 0.0        No  Metropolitian   \n",
       "6           scooter                 0.0        No  Metropolitian   \n",
       "7        motorcycle                 1.0       Yes          Urban   \n",
       "8           scooter                 1.0        No          Urban   \n",
       "9           scooter                 0.0        No          Urban   \n",
       "\n",
       "  Time_taken (min)  \n",
       "0               33  \n",
       "1               19  \n",
       "2               25  \n",
       "3               15  \n",
       "4               19  \n",
       "5               43  \n",
       "6               24  \n",
       "7               43  \n",
       "8               19  \n",
       "9               12  \n",
       "\n",
       "[10 rows x 21 columns]"
      ]
     },
     "execution_count": 115,
     "metadata": {},
     "output_type": "execute_result"
    }
   ],
   "source": [
    "data.head(10)"
   ]
  },
  {
   "cell_type": "code",
   "execution_count": 116,
   "id": "fad14d34-adb1-4a35-8336-c59711ac48b0",
   "metadata": {},
   "outputs": [
    {
     "data": {
      "text/html": [
       "<div>\n",
       "<style scoped>\n",
       "    .dataframe tbody tr th:only-of-type {\n",
       "        vertical-align: middle;\n",
       "    }\n",
       "\n",
       "    .dataframe tbody tr th {\n",
       "        vertical-align: top;\n",
       "    }\n",
       "\n",
       "    .dataframe thead th {\n",
       "        text-align: right;\n",
       "    }\n",
       "</style>\n",
       "<table border=\"1\" class=\"dataframe\">\n",
       "  <thead>\n",
       "    <tr style=\"text-align: right;\">\n",
       "      <th></th>\n",
       "      <th>ID</th>\n",
       "      <th>Delivery_person_ID</th>\n",
       "      <th>Delivery_person_Age</th>\n",
       "      <th>Delivery_person_Ratings</th>\n",
       "      <th>Restaurant_latitude</th>\n",
       "      <th>Restaurant_longitude</th>\n",
       "      <th>Delivery_location_latitude</th>\n",
       "      <th>Delivery_location_longitude</th>\n",
       "      <th>Month</th>\n",
       "      <th>Order_Date</th>\n",
       "      <th>...</th>\n",
       "      <th>Time_Order_picked</th>\n",
       "      <th>Weather_conditions</th>\n",
       "      <th>Road_traffic_density</th>\n",
       "      <th>Vehicle_condition</th>\n",
       "      <th>Type_of_order</th>\n",
       "      <th>Type_of_vehicle</th>\n",
       "      <th>multiple_deliveries</th>\n",
       "      <th>Festival</th>\n",
       "      <th>City</th>\n",
       "      <th>Time_taken (min)</th>\n",
       "    </tr>\n",
       "  </thead>\n",
       "  <tbody>\n",
       "    <tr>\n",
       "      <th>45579</th>\n",
       "      <td>0x1144</td>\n",
       "      <td>MYSRES05DEL01</td>\n",
       "      <td>15.0</td>\n",
       "      <td>1.0</td>\n",
       "      <td>12.323978</td>\n",
       "      <td>76.627961</td>\n",
       "      <td>12.433978</td>\n",
       "      <td>76.737961</td>\n",
       "      <td>3</td>\n",
       "      <td>29-03-2022</td>\n",
       "      <td>...</td>\n",
       "      <td>22:10</td>\n",
       "      <td>NaN</td>\n",
       "      <td>NaN</td>\n",
       "      <td>3</td>\n",
       "      <td>Snack</td>\n",
       "      <td>electric_scooter</td>\n",
       "      <td>0.0</td>\n",
       "      <td>No</td>\n",
       "      <td>Metropolitian</td>\n",
       "      <td>30</td>\n",
       "    </tr>\n",
       "    <tr>\n",
       "      <th>45580</th>\n",
       "      <td>0x442</td>\n",
       "      <td>CHENRES16DEL02</td>\n",
       "      <td>15.0</td>\n",
       "      <td>1.0</td>\n",
       "      <td>-13.049645</td>\n",
       "      <td>-80.242268</td>\n",
       "      <td>13.129645</td>\n",
       "      <td>80.322268</td>\n",
       "      <td>3</td>\n",
       "      <td>08-03-2022</td>\n",
       "      <td>...</td>\n",
       "      <td>23:05</td>\n",
       "      <td>NaN</td>\n",
       "      <td>NaN</td>\n",
       "      <td>3</td>\n",
       "      <td>Snack</td>\n",
       "      <td>bicycle</td>\n",
       "      <td>0.0</td>\n",
       "      <td>No</td>\n",
       "      <td>Metropolitian</td>\n",
       "      <td>25</td>\n",
       "    </tr>\n",
       "    <tr>\n",
       "      <th>45581</th>\n",
       "      <td>0x49c</td>\n",
       "      <td>COIMBRES14DEL02</td>\n",
       "      <td>15.0</td>\n",
       "      <td>1.0</td>\n",
       "      <td>11.003681</td>\n",
       "      <td>76.975525</td>\n",
       "      <td>11.133681</td>\n",
       "      <td>77.105525</td>\n",
       "      <td>4</td>\n",
       "      <td>02-04-2022</td>\n",
       "      <td>...</td>\n",
       "      <td>23:45</td>\n",
       "      <td>NaN</td>\n",
       "      <td>NaN</td>\n",
       "      <td>3</td>\n",
       "      <td>Meal</td>\n",
       "      <td>scooter</td>\n",
       "      <td>0.0</td>\n",
       "      <td>No</td>\n",
       "      <td>Metropolitian</td>\n",
       "      <td>25</td>\n",
       "    </tr>\n",
       "    <tr>\n",
       "      <th>45582</th>\n",
       "      <td>0x2314</td>\n",
       "      <td>VADRES04DEL01</td>\n",
       "      <td>15.0</td>\n",
       "      <td>1.0</td>\n",
       "      <td>0.000000</td>\n",
       "      <td>0.000000</td>\n",
       "      <td>0.070000</td>\n",
       "      <td>0.070000</td>\n",
       "      <td>3</td>\n",
       "      <td>14-03-2022</td>\n",
       "      <td>...</td>\n",
       "      <td>17:40</td>\n",
       "      <td>NaN</td>\n",
       "      <td>NaN</td>\n",
       "      <td>3</td>\n",
       "      <td>Drinks</td>\n",
       "      <td>scooter</td>\n",
       "      <td>0.0</td>\n",
       "      <td>No</td>\n",
       "      <td>Metropolitian</td>\n",
       "      <td>34</td>\n",
       "    </tr>\n",
       "    <tr>\n",
       "      <th>45583</th>\n",
       "      <td>0x8d4</td>\n",
       "      <td>CHENRES02DEL02</td>\n",
       "      <td>15.0</td>\n",
       "      <td>1.0</td>\n",
       "      <td>13.086438</td>\n",
       "      <td>80.220672</td>\n",
       "      <td>13.216439</td>\n",
       "      <td>80.350672</td>\n",
       "      <td>3</td>\n",
       "      <td>18-03-2022</td>\n",
       "      <td>...</td>\n",
       "      <td>0.75</td>\n",
       "      <td>NaN</td>\n",
       "      <td>NaN</td>\n",
       "      <td>3</td>\n",
       "      <td>Snack</td>\n",
       "      <td>electric_scooter</td>\n",
       "      <td>1.0</td>\n",
       "      <td>No</td>\n",
       "      <td>Urban</td>\n",
       "      <td>26</td>\n",
       "    </tr>\n",
       "  </tbody>\n",
       "</table>\n",
       "<p>5 rows × 21 columns</p>\n",
       "</div>"
      ],
      "text/plain": [
       "           ID Delivery_person_ID  Delivery_person_Age  \\\n",
       "45579  0x1144      MYSRES05DEL01                 15.0   \n",
       "45580   0x442     CHENRES16DEL02                 15.0   \n",
       "45581   0x49c    COIMBRES14DEL02                 15.0   \n",
       "45582  0x2314      VADRES04DEL01                 15.0   \n",
       "45583   0x8d4     CHENRES02DEL02                 15.0   \n",
       "\n",
       "       Delivery_person_Ratings  Restaurant_latitude  Restaurant_longitude  \\\n",
       "45579                      1.0            12.323978             76.627961   \n",
       "45580                      1.0           -13.049645            -80.242268   \n",
       "45581                      1.0            11.003681             76.975525   \n",
       "45582                      1.0             0.000000              0.000000   \n",
       "45583                      1.0            13.086438             80.220672   \n",
       "\n",
       "       Delivery_location_latitude  Delivery_location_longitude  Month  \\\n",
       "45579                   12.433978                    76.737961      3   \n",
       "45580                   13.129645                    80.322268      3   \n",
       "45581                   11.133681                    77.105525      4   \n",
       "45582                    0.070000                     0.070000      3   \n",
       "45583                   13.216439                    80.350672      3   \n",
       "\n",
       "       Order_Date  ... Time_Order_picked Weather_conditions  \\\n",
       "45579  29-03-2022  ...             22:10                NaN   \n",
       "45580  08-03-2022  ...             23:05                NaN   \n",
       "45581  02-04-2022  ...             23:45                NaN   \n",
       "45582  14-03-2022  ...             17:40                NaN   \n",
       "45583  18-03-2022  ...              0.75                NaN   \n",
       "\n",
       "      Road_traffic_density Vehicle_condition  Type_of_order   Type_of_vehicle  \\\n",
       "45579                  NaN                 3          Snack  electric_scooter   \n",
       "45580                  NaN                 3          Snack           bicycle   \n",
       "45581                  NaN                 3           Meal           scooter   \n",
       "45582                  NaN                 3         Drinks           scooter   \n",
       "45583                  NaN                 3          Snack  electric_scooter   \n",
       "\n",
       "      multiple_deliveries  Festival           City Time_taken (min)  \n",
       "45579                 0.0        No  Metropolitian               30  \n",
       "45580                 0.0        No  Metropolitian               25  \n",
       "45581                 0.0        No  Metropolitian               25  \n",
       "45582                 0.0        No  Metropolitian               34  \n",
       "45583                 1.0        No          Urban               26  \n",
       "\n",
       "[5 rows x 21 columns]"
      ]
     },
     "execution_count": 116,
     "metadata": {},
     "output_type": "execute_result"
    }
   ],
   "source": [
    "data.tail()"
   ]
  },
  {
   "cell_type": "code",
   "execution_count": 117,
   "id": "ad3906b6-9126-4ce5-b7d5-d3a2582b0fde",
   "metadata": {},
   "outputs": [
    {
     "data": {
      "text/plain": [
       "(45584, 21)"
      ]
     },
     "execution_count": 117,
     "metadata": {},
     "output_type": "execute_result"
    }
   ],
   "source": [
    "data.shape"
   ]
  },
  {
   "cell_type": "code",
   "execution_count": 156,
   "id": "62f679be-53bf-42fd-87f2-f28730a9cd60",
   "metadata": {},
   "outputs": [
    {
     "data": {
      "text/plain": [
       "Index(['ID', 'Delivery_person_ID', 'Delivery_person_Age',\n",
       "       'Delivery_person_Ratings', 'Restaurant_latitude',\n",
       "       'Restaurant_longitude', 'Delivery_location_latitude',\n",
       "       'Delivery_location_longitude', 'Month', 'Order_Date', 'Time_Orderd',\n",
       "       'Time_Order_picked', 'Weather_conditions', 'Road_traffic_density',\n",
       "       'Vehicle_condition', 'Type_of_order', 'Type_of_vehicle',\n",
       "       'multiple_deliveries', 'Festival', 'City', 'Time_taken (min)', 'Range'],\n",
       "      dtype='object')"
      ]
     },
     "execution_count": 156,
     "metadata": {},
     "output_type": "execute_result"
    }
   ],
   "source": [
    "data.columns"
   ]
  },
  {
   "cell_type": "markdown",
   "id": "fd1ba6ef-dda1-4370-93b8-e0643220d317",
   "metadata": {},
   "source": [
    "# Removing Duplicates:"
   ]
  },
  {
   "cell_type": "code",
   "execution_count": 118,
   "id": "498f765b-7472-42be-b228-607cae2ff68c",
   "metadata": {},
   "outputs": [
    {
     "data": {
      "text/plain": [
       "np.int64(0)"
      ]
     },
     "execution_count": 118,
     "metadata": {},
     "output_type": "execute_result"
    }
   ],
   "source": [
    "data.duplicated().sum()"
   ]
  },
  {
   "cell_type": "markdown",
   "id": "429aafe5-ccbc-4be3-b85d-37367cb32e89",
   "metadata": {},
   "source": [
    "### Obsevation:\n",
    "No duplicated value is there."
   ]
  },
  {
   "cell_type": "code",
   "execution_count": 119,
   "id": "b2208937-f1a0-4d31-861f-289edd6fc74e",
   "metadata": {},
   "outputs": [
    {
     "data": {
      "text/plain": [
       "ID                                0\n",
       "Delivery_person_ID                0\n",
       "Delivery_person_Age            1854\n",
       "Delivery_person_Ratings        1908\n",
       "Restaurant_latitude               0\n",
       "Restaurant_longitude              0\n",
       "Delivery_location_latitude        0\n",
       "Delivery_location_longitude       0\n",
       "Month                             0\n",
       "Order_Date                        0\n",
       "Time_Orderd                    1731\n",
       "Time_Order_picked                 0\n",
       "Weather_conditions              616\n",
       "Road_traffic_density            601\n",
       "Vehicle_condition                 0\n",
       "Type_of_order                     0\n",
       "Type_of_vehicle                   0\n",
       "multiple_deliveries             993\n",
       "Festival                        228\n",
       "City                           1200\n",
       "Time_taken (min)                  0\n",
       "dtype: int64"
      ]
     },
     "execution_count": 119,
     "metadata": {},
     "output_type": "execute_result"
    }
   ],
   "source": [
    "data.isna().sum()"
   ]
  },
  {
   "cell_type": "markdown",
   "id": "298dda45-afc6-4418-85d0-6f494cd806ab",
   "metadata": {},
   "source": [
    "# Observation:\n",
    "Maximum null values are found in Delivery person ratings i.e. 1908.\n",
    "And other important informations like Time ordered and Delivery person's age and city is not mentioned in number of columns."
   ]
  },
  {
   "cell_type": "markdown",
   "id": "81f9b1a6-de1a-4be9-bcb3-3cbb4e5be2a6",
   "metadata": {},
   "source": [
    "# Dealing With Missing Values:"
   ]
  },
  {
   "cell_type": "code",
   "execution_count": 120,
   "id": "95e255d9-aef4-4712-bcaf-4b1b89715af3",
   "metadata": {},
   "outputs": [
    {
     "name": "stderr",
     "output_type": "stream",
     "text": [
      "C:\\Users\\sapta\\AppData\\Local\\Temp\\ipykernel_21184\\1421906544.py:2: FutureWarning: A value is trying to be set on a copy of a DataFrame or Series through chained assignment using an inplace method.\n",
      "The behavior will change in pandas 3.0. This inplace method will never work because the intermediate object on which we are setting values always behaves as a copy.\n",
      "\n",
      "For example, when doing 'df[col].method(value, inplace=True)', try using 'df.method({col: value}, inplace=True)' or df[col] = df[col].method(value) instead, to perform the operation inplace on the original object.\n",
      "\n",
      "\n",
      "  data[column].fillna(data[column].mean(), inplace=True)\n",
      "C:\\Users\\sapta\\AppData\\Local\\Temp\\ipykernel_21184\\1421906544.py:5: FutureWarning: A value is trying to be set on a copy of a DataFrame or Series through chained assignment using an inplace method.\n",
      "The behavior will change in pandas 3.0. This inplace method will never work because the intermediate object on which we are setting values always behaves as a copy.\n",
      "\n",
      "For example, when doing 'df[col].method(value, inplace=True)', try using 'df.method({col: value}, inplace=True)' or df[col] = df[col].method(value) instead, to perform the operation inplace on the original object.\n",
      "\n",
      "\n",
      "  data[column].fillna(data[column].mode()[0], inplace=True)\n"
     ]
    },
    {
     "data": {
      "text/plain": [
       "ID                             0\n",
       "Delivery_person_ID             0\n",
       "Delivery_person_Age            0\n",
       "Delivery_person_Ratings        0\n",
       "Restaurant_latitude            0\n",
       "Restaurant_longitude           0\n",
       "Delivery_location_latitude     0\n",
       "Delivery_location_longitude    0\n",
       "Month                          0\n",
       "Order_Date                     0\n",
       "Time_Orderd                    0\n",
       "Time_Order_picked              0\n",
       "Weather_conditions             0\n",
       "Road_traffic_density           0\n",
       "Vehicle_condition              0\n",
       "Type_of_order                  0\n",
       "Type_of_vehicle                0\n",
       "multiple_deliveries            0\n",
       "Festival                       0\n",
       "City                           0\n",
       "Time_taken (min)               0\n",
       "dtype: int64"
      ]
     },
     "execution_count": 120,
     "metadata": {},
     "output_type": "execute_result"
    }
   ],
   "source": [
    "for column in data.select_dtypes(include=[np.number]).columns:\n",
    "    data[column].fillna(data[column].mean(), inplace=True)\n",
    "\n",
    "for column in data.select_dtypes(include=[object]).columns:\n",
    "    data[column].fillna(data[column].mode()[0], inplace=True)\n",
    "    \n",
    "data.isnull().sum()"
   ]
  },
  {
   "cell_type": "markdown",
   "id": "552642cd-485c-4157-bf94-58e03843e272",
   "metadata": {},
   "source": [
    "## Q1: What is the average delivery time in minutes?\n"
   ]
  },
  {
   "cell_type": "code",
   "execution_count": 122,
   "id": "466080c8-ffe7-44ef-b4cf-94886d80fae7",
   "metadata": {},
   "outputs": [
    {
     "data": {
      "text/plain": [
       "<Axes: xlabel='Time_taken (min)', ylabel='Density'>"
      ]
     },
     "execution_count": 122,
     "metadata": {},
     "output_type": "execute_result"
    },
    {
     "data": {
      "image/png": "[encoded data removed]",
      "text/plain": [
       "<Figure size 640x480 with 1 Axes>"
      ]
     },
     "metadata": {},
     "output_type": "display_data"
    }
   ],
   "source": [
    "sns.kdeplot(data[\"Time_taken (min)\"],color = \"red\")"
   ]
  },
  {
   "cell_type": "code",
   "execution_count": 123,
   "id": "879578c5-511a-4824-b2a2-7b5bf16f81fb",
   "metadata": {},
   "outputs": [
    {
     "data": {
      "text/plain": [
       "np.float64(26.293962793962795)"
      ]
     },
     "execution_count": 123,
     "metadata": {},
     "output_type": "execute_result"
    }
   ],
   "source": [
    "data[\"Time_taken (min)\"].mean()"
   ]
  },
  {
   "cell_type": "markdown",
   "id": "26474ef6-60f8-4702-9cde-5f7f181193a0",
   "metadata": {},
   "source": [
    "#### Observation:\n",
    "~ The average delivey time in minutes is : 26.29 minutes."
   ]
  },
  {
   "cell_type": "markdown",
   "id": "f1135e0e-d507-46d4-8d12-82539eb382ca",
   "metadata": {},
   "source": [
    "## Q2: Which city has the highest average delivery person rating?"
   ]
  },
  {
   "cell_type": "code",
   "execution_count": 124,
   "id": "fd060a95-b673-4602-aa14-57537ac046a7",
   "metadata": {},
   "outputs": [
    {
     "name": "stdout",
     "output_type": "stream",
     "text": [
      "The city with the highest average delivery person rating is 4.6673023175862145 with a rating of 4.67.\n"
     ]
    }
   ],
   "source": [
    "highest_rating_by_city = data.groupby(\"City\")[\"Delivery_person_Ratings\"].mean().max()\n",
    "highest_rating = data.groupby('City')['Delivery_person_Ratings'].mean().max()\n",
    "print(f\"The city with the highest average delivery person rating is {highest_rating_by_city} with a rating of {highest_rating:.2f}.\")"
   ]
  },
  {
   "cell_type": "code",
   "execution_count": 125,
   "id": "3e59df98-1884-45ea-8f74-e0fbc4546c42",
   "metadata": {},
   "outputs": [
    {
     "data": {
      "image/png": "[encoded data removed]",
      "text/plain": [
       "<Figure size 1000x500 with 1 Axes>"
      ]
     },
     "metadata": {},
     "output_type": "display_data"
    }
   ],
   "source": [
    "city_wise_delivery_rating = data.groupby(\"City\")[\"Delivery_person_Ratings\"].mean()\n",
    "\n",
    "plt.figure(figsize=(10, 5))\n",
    "plt.hist(data['City'], bins=20, color='red', edgecolor='black')\n",
    "plt.title('Delivery Person Rating By City')\n",
    "plt.xlabel('Delivery_person_Ratings')\n",
    "plt.ylabel(\"Delivery_person_Ratings\")\n",
    "plt.show()"
   ]
  },
  {
   "cell_type": "code",
   "execution_count": 126,
   "id": "d98f54b8-1f6c-4919-b3b0-39365e255037",
   "metadata": {},
   "outputs": [
    {
     "data": {
      "text/plain": [
       "City\n",
       "Metropolitian    35287\n",
       "Urban            10133\n",
       "Semi-Urban         164\n",
       "Name: count, dtype: int64"
      ]
     },
     "execution_count": 126,
     "metadata": {},
     "output_type": "execute_result"
    }
   ],
   "source": [
    "data[\"City\"].value_counts()"
   ]
  },
  {
   "cell_type": "markdown",
   "id": "4698b299-5feb-4f65-bf67-558b7a79331d",
   "metadata": {},
   "source": [
    "# Observation:\n",
    "From Metropolitan City maximum order was placed.Almost thrice than the Urban area."
   ]
  },
  {
   "cell_type": "code",
   "execution_count": 127,
   "id": "e50e3ca5-4831-453d-a5a4-0d1a290461ee",
   "metadata": {},
   "outputs": [
    {
     "name": "stdout",
     "output_type": "stream",
     "text": [
      "The city with the highest average delivery person rating is Urban with a rating of 4.67.\n"
     ]
    }
   ],
   "source": [
    "city_with_highest_rating = data.groupby('City')['Delivery_person_Ratings'].mean().idxmax()\n",
    "highest_rating = data.groupby('City')['Delivery_person_Ratings'].mean().max()\n",
    "print(f\"The city with the highest average delivery person rating is {city_with_highest_rating} with a rating of {highest_rating:.2f}.\")"
   ]
  },
  {
   "cell_type": "code",
   "execution_count": 128,
   "id": "277fcdab-3dff-4477-b22f-9b9010d96fa7",
   "metadata": {},
   "outputs": [
    {
     "data": {
      "text/plain": [
       "np.float64(6.0)"
      ]
     },
     "execution_count": 128,
     "metadata": {},
     "output_type": "execute_result"
    }
   ],
   "source": [
    "data['Delivery_person_Ratings'].max()"
   ]
  },
  {
   "cell_type": "code",
   "execution_count": 129,
   "id": "d5442353-a372-4b09-98c8-bf40c730746d",
   "metadata": {},
   "outputs": [
    {
     "name": "stdout",
     "output_type": "stream",
     "text": [
      "City wise average delivery person rating is :  City\n",
      "Metropolitian    4.624756\n",
      "Semi-Urban       4.502471\n",
      "Urban            4.667302\n",
      "Name: Delivery_person_Ratings, dtype: float64\n"
     ]
    }
   ],
   "source": [
    "delivery_person_rating_by_city = data.groupby(\"City\")[\"Delivery_person_Ratings\"].mean()\n",
    "print(\"City wise average delivery person rating is : \", delivery_person_rating_by_city)"
   ]
  },
  {
   "cell_type": "markdown",
   "id": "8120f656-79ff-42ec-bf3c-09c8b196eba6",
   "metadata": {},
   "source": [
    "# Observation:\n",
    "The city with the highest average delivery person rating is 4.6673023175862145 with a rating of 4.67."
   ]
  },
  {
   "cell_type": "markdown",
   "id": "da97ad21-c3b8-499c-a4bf-d8391add0c44",
   "metadata": {},
   "source": [
    "## Q3: What is the distribution of delivery person ages?"
   ]
  },
  {
   "cell_type": "code",
   "execution_count": 130,
   "id": "ab97e988-05c1-4558-8fe2-547c6faed1b3",
   "metadata": {},
   "outputs": [
    {
     "data": {
      "text/plain": [
       "np.float64(50.0)"
      ]
     },
     "execution_count": 130,
     "metadata": {},
     "output_type": "execute_result"
    }
   ],
   "source": [
    "data[\"Delivery_person_Age\"].max()"
   ]
  },
  {
   "cell_type": "code",
   "execution_count": 131,
   "id": "26d18d1c-3f8e-44d9-bdd5-8eb53e70bf90",
   "metadata": {},
   "outputs": [
    {
     "data": {
      "text/plain": [
       "np.float64(15.0)"
      ]
     },
     "execution_count": 131,
     "metadata": {},
     "output_type": "execute_result"
    }
   ],
   "source": [
    "data[\"Delivery_person_Age\"].min()"
   ]
  },
  {
   "cell_type": "code",
   "execution_count": 132,
   "id": "baf2c511-6a83-4e8b-ad53-19944ef32d41",
   "metadata": {},
   "outputs": [
    {
     "data": {
      "text/html": [
       "<div>\n",
       "<style scoped>\n",
       "    .dataframe tbody tr th:only-of-type {\n",
       "        vertical-align: middle;\n",
       "    }\n",
       "\n",
       "    .dataframe tbody tr th {\n",
       "        vertical-align: top;\n",
       "    }\n",
       "\n",
       "    .dataframe thead th {\n",
       "        text-align: right;\n",
       "    }\n",
       "</style>\n",
       "<table border=\"1\" class=\"dataframe\">\n",
       "  <thead>\n",
       "    <tr style=\"text-align: right;\">\n",
       "      <th></th>\n",
       "      <th>ID</th>\n",
       "      <th>Delivery_person_ID</th>\n",
       "      <th>Delivery_person_Age</th>\n",
       "      <th>Delivery_person_Ratings</th>\n",
       "      <th>Restaurant_latitude</th>\n",
       "      <th>Restaurant_longitude</th>\n",
       "      <th>Delivery_location_latitude</th>\n",
       "      <th>Delivery_location_longitude</th>\n",
       "      <th>Month</th>\n",
       "      <th>Order_Date</th>\n",
       "      <th>...</th>\n",
       "      <th>Weather_conditions</th>\n",
       "      <th>Road_traffic_density</th>\n",
       "      <th>Vehicle_condition</th>\n",
       "      <th>Type_of_order</th>\n",
       "      <th>Type_of_vehicle</th>\n",
       "      <th>multiple_deliveries</th>\n",
       "      <th>Festival</th>\n",
       "      <th>City</th>\n",
       "      <th>Time_taken (min)</th>\n",
       "      <th>Range</th>\n",
       "    </tr>\n",
       "  </thead>\n",
       "  <tbody>\n",
       "    <tr>\n",
       "      <th>0</th>\n",
       "      <td>0x4f0</td>\n",
       "      <td>MUMRES17DEL02</td>\n",
       "      <td>29.566911</td>\n",
       "      <td>4.633774</td>\n",
       "      <td>19.121999</td>\n",
       "      <td>72.908493</td>\n",
       "      <td>19.201999</td>\n",
       "      <td>72.988493</td>\n",
       "      <td>4</td>\n",
       "      <td>06-04-2022</td>\n",
       "      <td>...</td>\n",
       "      <td>Cloudy</td>\n",
       "      <td>Medium</td>\n",
       "      <td>1</td>\n",
       "      <td>Drinks</td>\n",
       "      <td>scooter</td>\n",
       "      <td>1.0</td>\n",
       "      <td>No</td>\n",
       "      <td>Metropolitian</td>\n",
       "      <td>33</td>\n",
       "      <td>35.0</td>\n",
       "    </tr>\n",
       "    <tr>\n",
       "      <th>1</th>\n",
       "      <td>0xa9f</td>\n",
       "      <td>BANGRES13DEL01</td>\n",
       "      <td>29.566911</td>\n",
       "      <td>4.633774</td>\n",
       "      <td>12.935662</td>\n",
       "      <td>77.614130</td>\n",
       "      <td>12.975662</td>\n",
       "      <td>77.654130</td>\n",
       "      <td>3</td>\n",
       "      <td>11-03-2022</td>\n",
       "      <td>...</td>\n",
       "      <td>Fog</td>\n",
       "      <td>Low</td>\n",
       "      <td>1</td>\n",
       "      <td>Drinks</td>\n",
       "      <td>scooter</td>\n",
       "      <td>0.0</td>\n",
       "      <td>No</td>\n",
       "      <td>Metropolitian</td>\n",
       "      <td>19</td>\n",
       "      <td>35.0</td>\n",
       "    </tr>\n",
       "    <tr>\n",
       "      <th>2</th>\n",
       "      <td>0x6e2</td>\n",
       "      <td>VADRES06DEL01</td>\n",
       "      <td>29.566911</td>\n",
       "      <td>4.633774</td>\n",
       "      <td>22.312790</td>\n",
       "      <td>73.170283</td>\n",
       "      <td>22.422790</td>\n",
       "      <td>73.280283</td>\n",
       "      <td>4</td>\n",
       "      <td>02-04-2022</td>\n",
       "      <td>...</td>\n",
       "      <td>Fog</td>\n",
       "      <td>Low</td>\n",
       "      <td>3</td>\n",
       "      <td>Snack</td>\n",
       "      <td>electric_scooter</td>\n",
       "      <td>0.0</td>\n",
       "      <td>No</td>\n",
       "      <td>Metropolitian</td>\n",
       "      <td>25</td>\n",
       "      <td>35.0</td>\n",
       "    </tr>\n",
       "    <tr>\n",
       "      <th>3</th>\n",
       "      <td>0xd0e5</td>\n",
       "      <td>KOLRES17DEL03</td>\n",
       "      <td>23.000000</td>\n",
       "      <td>4.633774</td>\n",
       "      <td>22.569358</td>\n",
       "      <td>88.433452</td>\n",
       "      <td>22.599358</td>\n",
       "      <td>88.463452</td>\n",
       "      <td>2</td>\n",
       "      <td>17-02-2022</td>\n",
       "      <td>...</td>\n",
       "      <td>Sunny</td>\n",
       "      <td>Low</td>\n",
       "      <td>0</td>\n",
       "      <td>Drinks</td>\n",
       "      <td>motorcycle</td>\n",
       "      <td>0.0</td>\n",
       "      <td>No</td>\n",
       "      <td>Metropolitian</td>\n",
       "      <td>15</td>\n",
       "      <td>35.0</td>\n",
       "    </tr>\n",
       "    <tr>\n",
       "      <th>4</th>\n",
       "      <td>0x1ec7</td>\n",
       "      <td>PUNERES05DEL03</td>\n",
       "      <td>29.566911</td>\n",
       "      <td>4.633774</td>\n",
       "      <td>18.543626</td>\n",
       "      <td>73.905101</td>\n",
       "      <td>18.573626</td>\n",
       "      <td>73.935101</td>\n",
       "      <td>3</td>\n",
       "      <td>09-03-2022</td>\n",
       "      <td>...</td>\n",
       "      <td>Stormy</td>\n",
       "      <td>Low</td>\n",
       "      <td>2</td>\n",
       "      <td>Snack</td>\n",
       "      <td>scooter</td>\n",
       "      <td>0.0</td>\n",
       "      <td>No</td>\n",
       "      <td>Metropolitian</td>\n",
       "      <td>19</td>\n",
       "      <td>35.0</td>\n",
       "    </tr>\n",
       "  </tbody>\n",
       "</table>\n",
       "<p>5 rows × 22 columns</p>\n",
       "</div>"
      ],
      "text/plain": [
       "       ID Delivery_person_ID  Delivery_person_Age  Delivery_person_Ratings  \\\n",
       "0   0x4f0      MUMRES17DEL02            29.566911                 4.633774   \n",
       "1   0xa9f     BANGRES13DEL01            29.566911                 4.633774   \n",
       "2   0x6e2      VADRES06DEL01            29.566911                 4.633774   \n",
       "3  0xd0e5      KOLRES17DEL03            23.000000                 4.633774   \n",
       "4  0x1ec7     PUNERES05DEL03            29.566911                 4.633774   \n",
       "\n",
       "   Restaurant_latitude  Restaurant_longitude  Delivery_location_latitude  \\\n",
       "0            19.121999             72.908493                   19.201999   \n",
       "1            12.935662             77.614130                   12.975662   \n",
       "2            22.312790             73.170283                   22.422790   \n",
       "3            22.569358             88.433452                   22.599358   \n",
       "4            18.543626             73.905101                   18.573626   \n",
       "\n",
       "   Delivery_location_longitude  Month  Order_Date  ... Weather_conditions  \\\n",
       "0                    72.988493      4  06-04-2022  ...             Cloudy   \n",
       "1                    77.654130      3  11-03-2022  ...                Fog   \n",
       "2                    73.280283      4  02-04-2022  ...                Fog   \n",
       "3                    88.463452      2  17-02-2022  ...              Sunny   \n",
       "4                    73.935101      3  09-03-2022  ...             Stormy   \n",
       "\n",
       "  Road_traffic_density Vehicle_condition Type_of_order   Type_of_vehicle  \\\n",
       "0               Medium                 1        Drinks           scooter   \n",
       "1                  Low                 1        Drinks           scooter   \n",
       "2                  Low                 3         Snack  electric_scooter   \n",
       "3                  Low                 0        Drinks        motorcycle   \n",
       "4                  Low                 2         Snack           scooter   \n",
       "\n",
       "  multiple_deliveries Festival           City Time_taken (min) Range  \n",
       "0                 1.0       No  Metropolitian               33  35.0  \n",
       "1                 0.0       No  Metropolitian               19  35.0  \n",
       "2                 0.0       No  Metropolitian               25  35.0  \n",
       "3                 0.0       No  Metropolitian               15  35.0  \n",
       "4                 0.0       No  Metropolitian               19  35.0  \n",
       "\n",
       "[5 rows x 22 columns]"
      ]
     },
     "execution_count": 132,
     "metadata": {},
     "output_type": "execute_result"
    }
   ],
   "source": [
    "data[\"Range\"] = (data[\"Delivery_person_Age\"].max() - data[\"Delivery_person_Age\"].min())\n",
    "data.head(5)"
   ]
  },
  {
   "cell_type": "code",
   "execution_count": 133,
   "id": "0faab2a4-a130-49c7-b2de-78e5adc33b95",
   "metadata": {},
   "outputs": [
    {
     "data": {
      "image/png": "[encoded data removed]",
      "text/plain": [
       "<Figure size 1000x500 with 1 Axes>"
      ]
     },
     "metadata": {},
     "output_type": "display_data"
    }
   ],
   "source": [
    "plt.figure(figsize=(10, 5)) ### kdeplot\n",
    "plt.hist(data['Delivery_person_Age'], bins=20, color='red', edgecolor='black')\n",
    "plt.title('Distribution of Delivery Person Ages')\n",
    "plt.xlabel('Age')\n",
    "plt.ylabel('Frequency')\n",
    "plt.show()"
   ]
  },
  {
   "cell_type": "markdown",
   "id": "e875744d-a489-4456-b6d7-a3712835a3f5",
   "metadata": {},
   "source": [
    "#### Observation:\n",
    "~ The age distribution in the dataset is: the minimum age of the delivery person is : 15 years.\n",
    "~ Whereas the maximum age of the delivery person is 50 years.\n",
    "~ The range of the delivery person age is 35 years.\n",
    "~ And most delivery person's age is 35 years."
   ]
  },
  {
   "cell_type": "markdown",
   "id": "2b0bd3a1-91b2-4520-af24-3850be028b60",
   "metadata": {},
   "source": [
    "## Q4: Is there a correlation between delivery person ratings and vehicle condition?"
   ]
  },
  {
   "cell_type": "markdown",
   "id": "fc09d23a-0044-4d63-ae61-5d111866a959",
   "metadata": {},
   "source": [
    "## Q5: Which type of order is the most common?"
   ]
  },
  {
   "cell_type": "code",
   "execution_count": 134,
   "id": "6e123734-c046-411d-8493-6ff72470949d",
   "metadata": {},
   "outputs": [
    {
     "name": "stdout",
     "output_type": "stream",
     "text": [
      "The most common order type is :  0    Snack\n",
      "Name: Type_of_order, dtype: object\n"
     ]
    },
    {
     "data": {
      "image/png": "[encoded data removed]",
      "text/plain": [
       "<Figure size 1000x600 with 1 Axes>"
      ]
     },
     "metadata": {},
     "output_type": "display_data"
    }
   ],
   "source": [
    "most_common_order = data[\"Type_of_order\"].mode()\n",
    "print(\"The most common order type is : \", most_common_order)\n",
    "order_type_counts = data['Type_of_order'].value_counts()\n",
    "\n",
    "plt.figure(figsize=(10, 6))\n",
    "order_type_counts.plot(kind='bar', color='red', edgecolor='black')\n",
    "plt.title('Distribution of Order Types')\n",
    "plt.xlabel('Type of Order')\n",
    "plt.ylabel('Frequency')\n",
    "plt.xticks(rotation=45)\n",
    "plt.show()"
   ]
  },
  {
   "cell_type": "code",
   "execution_count": null,
   "id": "a25c93b7-1ae1-4e18-b54f-3b18308dc512",
   "metadata": {},
   "outputs": [],
   "source": []
  },
  {
   "cell_type": "code",
   "execution_count": null,
   "id": "02db11a2-a633-49e4-b130-23f2fcac74da",
   "metadata": {},
   "outputs": [],
   "source": []
  },
  {
   "cell_type": "markdown",
   "id": "83dc7af7-f296-427a-b5fc-c3494b1ebe9a",
   "metadata": {},
   "source": [
    "## Q6: How does weather condition affect delivery time?"
   ]
  },
  {
   "cell_type": "code",
   "execution_count": 135,
   "id": "1719eddd-1a25-4630-a4a7-3e5ee71d0f9d",
   "metadata": {},
   "outputs": [
    {
     "name": "stdout",
     "output_type": "stream",
     "text": [
      "Average delivery time by weather condition:\n",
      "Weather_conditions\n",
      "Cloudy        28.917164\n",
      "Fog           28.738179\n",
      "Sandstorms    25.875500\n",
      "Stormy        25.868803\n",
      "Sunny         21.856770\n",
      "Windy         26.118836\n",
      "Name: Time_taken (min), dtype: float64\n"
     ]
    },
    {
     "data": {
      "image/png": "[encoded data removed]",
      "text/plain": [
       "<Figure size 1000x500 with 1 Axes>"
      ]
     },
     "metadata": {},
     "output_type": "display_data"
    }
   ],
   "source": [
    "average_time_by_weather = data.groupby('Weather_conditions')['Time_taken (min)'].mean()\n",
    "print(\"Average delivery time by weather condition:\")\n",
    "print(average_time_by_weather)\n",
    "average_time_by_weather.plot(kind='bar', figsize=(10, 5), color='red')\n",
    "plt.title('Average Delivery Time by Weather Condition')\n",
    "plt.xlabel('Weather Condition')\n",
    "plt.ylabel('Average Delivery Time (min)')\n",
    "plt.show()"
   ]
  },
  {
   "cell_type": "markdown",
   "id": "82bce640-b5f4-42aa-aac6-aa63b8341fb2",
   "metadata": {},
   "source": [
    "#### Observation:\n",
    "~ Cloudy and Foggy weather takes maximum average delivery time.\n",
    "~ Whereas Sunny weather takes minimum delivery time."
   ]
  },
  {
   "cell_type": "code",
   "execution_count": null,
   "id": "57aad1f1-994e-41d8-9a8a-7d4b5257da0b",
   "metadata": {},
   "outputs": [],
   "source": []
  },
  {
   "cell_type": "markdown",
   "id": "6fe4ce80-9b9c-4af7-b1ef-f802080a0937",
   "metadata": {},
   "source": [
    "## Q7: Are delivery times longer during festivals?"
   ]
  },
  {
   "cell_type": "code",
   "execution_count": 136,
   "id": "f88e7e72-3422-492b-8d96-8ca191a101f0",
   "metadata": {},
   "outputs": [
    {
     "name": "stdout",
     "output_type": "stream",
     "text": [
      "Festival\n",
      "No     25.908521\n",
      "Yes    45.517857\n",
      "Name: Time_taken (min), dtype: float64\n"
     ]
    },
    {
     "data": {
      "image/png": "[encoded data removed]",
      "text/plain": [
       "<Figure size 1000x500 with 1 Axes>"
      ]
     },
     "metadata": {},
     "output_type": "display_data"
    }
   ],
   "source": [
    "festival_delivery_time = data.groupby(\"Festival\")[\"Time_taken (min)\"].mean()\n",
    "print(festival_delivery_time)\n",
    "festival_delivery_time.plot(kind ='bar', figsize=(10, 5), color='red')\n",
    "plt.title('Average Delivery Time: Festivals vs Non-Festivals')\n",
    "plt.xlabel('Festival')\n",
    "plt.ylabel('Average Delivery Time (min)')\n",
    "plt.show()"
   ]
  },
  {
   "cell_type": "markdown",
   "id": "a23baa66-22df-4ecf-907a-075885fcf63d",
   "metadata": {},
   "source": [
    "#### Observation:\n",
    "~ The delivery time is longer during festivals.Almost twice than the no festivities time."
   ]
  },
  {
   "cell_type": "markdown",
   "id": "5e570069-aa8c-48ff-9d49-71c8561e57b4",
   "metadata": {},
   "source": [
    "# Which city has maximum order count?"
   ]
  },
  {
   "cell_type": "code",
   "execution_count": 137,
   "id": "af86ede2-6f44-457c-aa0a-79e90e80a913",
   "metadata": {},
   "outputs": [
    {
     "name": "stdout",
     "output_type": "stream",
     "text": [
      "City\n",
      "Metropolitian    35287\n",
      "Urban            10133\n",
      "Semi-Urban         164\n",
      "Name: count, dtype: int64\n"
     ]
    },
    {
     "data": {
      "image/png": "[encoded data removed]",
      "text/plain": [
       "<Figure size 1000x500 with 1 Axes>"
      ]
     },
     "metadata": {},
     "output_type": "display_data"
    }
   ],
   "source": [
    "city_wise_order = data[\"City\"].value_counts()\n",
    "print(city_wise_order)\n",
    "city_wise_order.plot(kind ='bar', figsize=(10, 5), color='red')\n",
    "plt.title(\"City Wise Order Count\")\n",
    "plt.xlabel('City')\n",
    "plt.ylabel('Count')\n",
    "plt.show()"
   ]
  },
  {
   "cell_type": "markdown",
   "id": "18564ed8-1482-4d0e-81f1-48931056c3b1",
   "metadata": {},
   "source": [
    "# Observation:\n",
    "In Metropolitan city maximum order was placed around 36 thousands.\n",
    "While Urban and Semi Urban city recieved very less order than that of Metropolitan cities."
   ]
  },
  {
   "cell_type": "code",
   "execution_count": 138,
   "id": "9d37d7db-3a0b-4087-b80c-3ca511395564",
   "metadata": {},
   "outputs": [
    {
     "data": {
      "text/html": [
       "<div>\n",
       "<style scoped>\n",
       "    .dataframe tbody tr th:only-of-type {\n",
       "        vertical-align: middle;\n",
       "    }\n",
       "\n",
       "    .dataframe tbody tr th {\n",
       "        vertical-align: top;\n",
       "    }\n",
       "\n",
       "    .dataframe thead th {\n",
       "        text-align: right;\n",
       "    }\n",
       "</style>\n",
       "<table border=\"1\" class=\"dataframe\">\n",
       "  <thead>\n",
       "    <tr style=\"text-align: right;\">\n",
       "      <th></th>\n",
       "      <th>ID</th>\n",
       "      <th>Delivery_person_ID</th>\n",
       "      <th>Delivery_person_Age</th>\n",
       "      <th>Delivery_person_Ratings</th>\n",
       "      <th>Restaurant_latitude</th>\n",
       "      <th>Restaurant_longitude</th>\n",
       "      <th>Delivery_location_latitude</th>\n",
       "      <th>Delivery_location_longitude</th>\n",
       "      <th>Month</th>\n",
       "      <th>Order_Date</th>\n",
       "      <th>...</th>\n",
       "      <th>Weather_conditions</th>\n",
       "      <th>Road_traffic_density</th>\n",
       "      <th>Vehicle_condition</th>\n",
       "      <th>Type_of_order</th>\n",
       "      <th>Type_of_vehicle</th>\n",
       "      <th>multiple_deliveries</th>\n",
       "      <th>Festival</th>\n",
       "      <th>City</th>\n",
       "      <th>Time_taken (min)</th>\n",
       "      <th>Range</th>\n",
       "    </tr>\n",
       "  </thead>\n",
       "  <tbody>\n",
       "    <tr>\n",
       "      <th>0</th>\n",
       "      <td>0x4f0</td>\n",
       "      <td>MUMRES17DEL02</td>\n",
       "      <td>29.566911</td>\n",
       "      <td>4.633774</td>\n",
       "      <td>19.121999</td>\n",
       "      <td>72.908493</td>\n",
       "      <td>19.201999</td>\n",
       "      <td>72.988493</td>\n",
       "      <td>4</td>\n",
       "      <td>06-04-2022</td>\n",
       "      <td>...</td>\n",
       "      <td>Cloudy</td>\n",
       "      <td>Medium</td>\n",
       "      <td>1</td>\n",
       "      <td>Drinks</td>\n",
       "      <td>scooter</td>\n",
       "      <td>1.0</td>\n",
       "      <td>No</td>\n",
       "      <td>Metropolitian</td>\n",
       "      <td>33</td>\n",
       "      <td>35.0</td>\n",
       "    </tr>\n",
       "  </tbody>\n",
       "</table>\n",
       "<p>1 rows × 22 columns</p>\n",
       "</div>"
      ],
      "text/plain": [
       "      ID Delivery_person_ID  Delivery_person_Age  Delivery_person_Ratings  \\\n",
       "0  0x4f0      MUMRES17DEL02            29.566911                 4.633774   \n",
       "\n",
       "   Restaurant_latitude  Restaurant_longitude  Delivery_location_latitude  \\\n",
       "0            19.121999             72.908493                   19.201999   \n",
       "\n",
       "   Delivery_location_longitude  Month  Order_Date  ... Weather_conditions  \\\n",
       "0                    72.988493      4  06-04-2022  ...             Cloudy   \n",
       "\n",
       "  Road_traffic_density Vehicle_condition Type_of_order  Type_of_vehicle  \\\n",
       "0               Medium                 1        Drinks          scooter   \n",
       "\n",
       "  multiple_deliveries Festival           City Time_taken (min) Range  \n",
       "0                 1.0       No  Metropolitian               33  35.0  \n",
       "\n",
       "[1 rows x 22 columns]"
      ]
     },
     "execution_count": 138,
     "metadata": {},
     "output_type": "execute_result"
    }
   ],
   "source": [
    "data.head(1)"
   ]
  },
  {
   "cell_type": "markdown",
   "id": "f4d544f6-ef1c-4da5-9047-a0aeb83867d6",
   "metadata": {},
   "source": [
    "# Month wise delivery distibution."
   ]
  },
  {
   "cell_type": "code",
   "execution_count": 155,
   "id": "e21f7763-f494-45a2-a923-9dd1aaf262a1",
   "metadata": {},
   "outputs": [
    {
     "name": "stdout",
     "output_type": "stream",
     "text": [
      "Month  City         \n",
      "2      Metropolitian     5629\n",
      "       Urban             1592\n",
      "       Semi-Urban          21\n",
      "3      Metropolitian    24704\n",
      "       Urban             7159\n",
      "       Semi-Urban         118\n",
      "4      Metropolitian     4954\n",
      "       Urban             1382\n",
      "       Semi-Urban          25\n",
      "Name: count, dtype: int64\n"
     ]
    }
   ],
   "source": [
    "sorted_month = data.groupby(\"Month\")[\"City\"].value_counts()\n",
    "print(sorted_month)"
   ]
  },
  {
   "cell_type": "markdown",
   "id": "5f93312c-e6a3-4a39-a5af-aed2b4319a7d",
   "metadata": {},
   "source": [
    "# Gap between time ordderd and order picked. #### resturant making time\n"
   ]
  },
  {
   "cell_type": "markdown",
   "id": "bc2aa395-2f91-454e-9308-55f62e2abf44",
   "metadata": {},
   "source": [
    "# Which time of the day maximum order was placed\n",
    "### morning,afternoon,evening,night"
   ]
  },
  {
   "cell_type": "code",
   "execution_count": 1,
   "id": "3ed60b98-9270-41bf-a849-790aa3d32856",
   "metadata": {},
   "outputs": [],
   "source": [
    "### highest distance covered by delivery boy"
   ]
  },
  {
   "cell_type": "markdown",
   "id": "bcd28a5a-6fa8-49b2-8620-f597e5f918c4",
   "metadata": {},
   "source": [
    "# Type of vehicle "
   ]
  },
  {
   "cell_type": "code",
   "execution_count": 141,
   "id": "98f20c65-c33b-41ea-9589-c490c0e82297",
   "metadata": {},
   "outputs": [
    {
     "name": "stdout",
     "output_type": "stream",
     "text": [
      "Type_of_vehicle\n",
      "motorcycle          26429\n",
      "scooter             15273\n",
      "electric_scooter     3814\n",
      "bicycle                68\n",
      "Name: count, dtype: int64\n"
     ]
    },
    {
     "data": {
      "text/plain": [
       "[<matplotlib.lines.Line2D at 0x14d33886a70>]"
      ]
     },
     "execution_count": 141,
     "metadata": {},
     "output_type": "execute_result"
    },
    {
     "data": {
      "image/png": "[encoded data removed]",
      "text/plain": [
       "<Figure size 640x480 with 1 Axes>"
      ]
     },
     "metadata": {},
     "output_type": "display_data"
    }
   ],
   "source": [
    "vehicle = data[\"Type_of_vehicle\"].value_counts()\n",
    "print(vehicle)\n",
    "plt.plot(vehicle,color = \"red\")"
   ]
  },
  {
   "cell_type": "markdown",
   "id": "317b7654-cfd4-4768-880b-3776feee3218",
   "metadata": {},
   "source": [
    "# Obsevation:\n",
    "Almost 26.5 thousand motorcycles are used in delivery and is mostly used,followed by Scooter,Electric_Scooter and Bicycle."
   ]
  },
  {
   "cell_type": "markdown",
   "id": "7f0af692-1a28-4a35-aa97-6317a9804752",
   "metadata": {},
   "source": [
    "# Relation beetween average time taken in accordance with vehicle type."
   ]
  },
  {
   "cell_type": "code",
   "execution_count": 148,
   "id": "40cb986f-f678-4b4c-977e-336a67df021f",
   "metadata": {},
   "outputs": [
    {
     "name": "stdout",
     "output_type": "stream",
     "text": [
      "Type_of_vehicle\n",
      "bicycle             26.426471\n",
      "electric_scooter    24.470110\n",
      "motorcycle          27.605774\n",
      "scooter             24.478819\n",
      "Name: Time_taken (min), dtype: float64\n"
     ]
    }
   ],
   "source": [
    "vehicle_type_and_time = data.groupby(\"Type_of_vehicle\")[\"Time_taken (min)\"].mean()\n",
    "print(vehicle_type_and_time)\n"
   ]
  },
  {
   "cell_type": "markdown",
   "id": "16541bc5-151b-4eb7-a2a0-c0f4a83253d1",
   "metadata": {},
   "source": [
    "# Observation:\n",
    "Scooter takes minimum average time.Whereas bicycle takes maximum average time."
   ]
  },
  {
   "cell_type": "code",
   "execution_count": 153,
   "id": "d43fcd6d-8847-4b8a-81ca-5a47f76646fd",
   "metadata": {},
   "outputs": [
    {
     "data": {
      "image/png": "[encoded data removed]",
      "text/plain": [
       "<Figure size 1000x500 with 1 Axes>"
      ]
     },
     "metadata": {},
     "output_type": "display_data"
    }
   ],
   "source": [
    "# RELATION BETWEEN ROAD TRIFFIC DENSITY AND TIME TAKEN\n",
    "traffic_and_delivery_time = data.groupby(\"Road_traffic_density\")[\"Time_taken (min)\"].mean()\n",
    "traffic_and_delivery_time.plot(kind ='bar', figsize=(10, 5), color='red')\n",
    "plt.title(\"Traffic And Delivery Time Taken\")\n",
    "plt.xlabel('Traffic')\n",
    "plt.ylabel('Average Delivery Time (min)')\n",
    "plt.show()"
   ]
  },
  {
   "cell_type": "markdown",
   "id": "628c5470-8208-4bfc-8ca6-8a17b2919ae2",
   "metadata": {},
   "source": [
    "# Observation:\n",
    "Maxmimum average delivey time taken when traffic was Jam i.e. 35 minutes."
   ]
  },
  {
   "cell_type": "code",
   "execution_count": 149,
   "id": "d242e600-a12f-44bc-aa7f-28352fd5e679",
   "metadata": {},
   "outputs": [
    {
     "data": {
      "text/html": [
       "<div>\n",
       "<style scoped>\n",
       "    .dataframe tbody tr th:only-of-type {\n",
       "        vertical-align: middle;\n",
       "    }\n",
       "\n",
       "    .dataframe tbody tr th {\n",
       "        vertical-align: top;\n",
       "    }\n",
       "\n",
       "    .dataframe thead th {\n",
       "        text-align: right;\n",
       "    }\n",
       "</style>\n",
       "<table border=\"1\" class=\"dataframe\">\n",
       "  <thead>\n",
       "    <tr style=\"text-align: right;\">\n",
       "      <th></th>\n",
       "      <th>ID</th>\n",
       "      <th>Delivery_person_ID</th>\n",
       "      <th>Delivery_person_Age</th>\n",
       "      <th>Delivery_person_Ratings</th>\n",
       "      <th>Restaurant_latitude</th>\n",
       "      <th>Restaurant_longitude</th>\n",
       "      <th>Delivery_location_latitude</th>\n",
       "      <th>Delivery_location_longitude</th>\n",
       "      <th>Month</th>\n",
       "      <th>Order_Date</th>\n",
       "      <th>...</th>\n",
       "      <th>Weather_conditions</th>\n",
       "      <th>Road_traffic_density</th>\n",
       "      <th>Vehicle_condition</th>\n",
       "      <th>Type_of_order</th>\n",
       "      <th>Type_of_vehicle</th>\n",
       "      <th>multiple_deliveries</th>\n",
       "      <th>Festival</th>\n",
       "      <th>City</th>\n",
       "      <th>Time_taken (min)</th>\n",
       "      <th>Range</th>\n",
       "    </tr>\n",
       "  </thead>\n",
       "  <tbody>\n",
       "    <tr>\n",
       "      <th>0</th>\n",
       "      <td>0x4f0</td>\n",
       "      <td>MUMRES17DEL02</td>\n",
       "      <td>29.566911</td>\n",
       "      <td>4.633774</td>\n",
       "      <td>19.121999</td>\n",
       "      <td>72.908493</td>\n",
       "      <td>19.201999</td>\n",
       "      <td>72.988493</td>\n",
       "      <td>4</td>\n",
       "      <td>06-04-2022</td>\n",
       "      <td>...</td>\n",
       "      <td>Cloudy</td>\n",
       "      <td>Medium</td>\n",
       "      <td>1</td>\n",
       "      <td>Drinks</td>\n",
       "      <td>scooter</td>\n",
       "      <td>1.0</td>\n",
       "      <td>No</td>\n",
       "      <td>Metropolitian</td>\n",
       "      <td>33</td>\n",
       "      <td>35.0</td>\n",
       "    </tr>\n",
       "    <tr>\n",
       "      <th>1</th>\n",
       "      <td>0xa9f</td>\n",
       "      <td>BANGRES13DEL01</td>\n",
       "      <td>29.566911</td>\n",
       "      <td>4.633774</td>\n",
       "      <td>12.935662</td>\n",
       "      <td>77.614130</td>\n",
       "      <td>12.975662</td>\n",
       "      <td>77.654130</td>\n",
       "      <td>3</td>\n",
       "      <td>11-03-2022</td>\n",
       "      <td>...</td>\n",
       "      <td>Fog</td>\n",
       "      <td>Low</td>\n",
       "      <td>1</td>\n",
       "      <td>Drinks</td>\n",
       "      <td>scooter</td>\n",
       "      <td>0.0</td>\n",
       "      <td>No</td>\n",
       "      <td>Metropolitian</td>\n",
       "      <td>19</td>\n",
       "      <td>35.0</td>\n",
       "    </tr>\n",
       "    <tr>\n",
       "      <th>2</th>\n",
       "      <td>0x6e2</td>\n",
       "      <td>VADRES06DEL01</td>\n",
       "      <td>29.566911</td>\n",
       "      <td>4.633774</td>\n",
       "      <td>22.312790</td>\n",
       "      <td>73.170283</td>\n",
       "      <td>22.422790</td>\n",
       "      <td>73.280283</td>\n",
       "      <td>4</td>\n",
       "      <td>02-04-2022</td>\n",
       "      <td>...</td>\n",
       "      <td>Fog</td>\n",
       "      <td>Low</td>\n",
       "      <td>3</td>\n",
       "      <td>Snack</td>\n",
       "      <td>electric_scooter</td>\n",
       "      <td>0.0</td>\n",
       "      <td>No</td>\n",
       "      <td>Metropolitian</td>\n",
       "      <td>25</td>\n",
       "      <td>35.0</td>\n",
       "    </tr>\n",
       "    <tr>\n",
       "      <th>3</th>\n",
       "      <td>0xd0e5</td>\n",
       "      <td>KOLRES17DEL03</td>\n",
       "      <td>23.000000</td>\n",
       "      <td>4.633774</td>\n",
       "      <td>22.569358</td>\n",
       "      <td>88.433452</td>\n",
       "      <td>22.599358</td>\n",
       "      <td>88.463452</td>\n",
       "      <td>2</td>\n",
       "      <td>17-02-2022</td>\n",
       "      <td>...</td>\n",
       "      <td>Sunny</td>\n",
       "      <td>Low</td>\n",
       "      <td>0</td>\n",
       "      <td>Drinks</td>\n",
       "      <td>motorcycle</td>\n",
       "      <td>0.0</td>\n",
       "      <td>No</td>\n",
       "      <td>Metropolitian</td>\n",
       "      <td>15</td>\n",
       "      <td>35.0</td>\n",
       "    </tr>\n",
       "    <tr>\n",
       "      <th>4</th>\n",
       "      <td>0x1ec7</td>\n",
       "      <td>PUNERES05DEL03</td>\n",
       "      <td>29.566911</td>\n",
       "      <td>4.633774</td>\n",
       "      <td>18.543626</td>\n",
       "      <td>73.905101</td>\n",
       "      <td>18.573626</td>\n",
       "      <td>73.935101</td>\n",
       "      <td>3</td>\n",
       "      <td>09-03-2022</td>\n",
       "      <td>...</td>\n",
       "      <td>Stormy</td>\n",
       "      <td>Low</td>\n",
       "      <td>2</td>\n",
       "      <td>Snack</td>\n",
       "      <td>scooter</td>\n",
       "      <td>0.0</td>\n",
       "      <td>No</td>\n",
       "      <td>Metropolitian</td>\n",
       "      <td>19</td>\n",
       "      <td>35.0</td>\n",
       "    </tr>\n",
       "  </tbody>\n",
       "</table>\n",
       "<p>5 rows × 22 columns</p>\n",
       "</div>"
      ],
      "text/plain": [
       "       ID Delivery_person_ID  Delivery_person_Age  Delivery_person_Ratings  \\\n",
       "0   0x4f0      MUMRES17DEL02            29.566911                 4.633774   \n",
       "1   0xa9f     BANGRES13DEL01            29.566911                 4.633774   \n",
       "2   0x6e2      VADRES06DEL01            29.566911                 4.633774   \n",
       "3  0xd0e5      KOLRES17DEL03            23.000000                 4.633774   \n",
       "4  0x1ec7     PUNERES05DEL03            29.566911                 4.633774   \n",
       "\n",
       "   Restaurant_latitude  Restaurant_longitude  Delivery_location_latitude  \\\n",
       "0            19.121999             72.908493                   19.201999   \n",
       "1            12.935662             77.614130                   12.975662   \n",
       "2            22.312790             73.170283                   22.422790   \n",
       "3            22.569358             88.433452                   22.599358   \n",
       "4            18.543626             73.905101                   18.573626   \n",
       "\n",
       "   Delivery_location_longitude  Month  Order_Date  ... Weather_conditions  \\\n",
       "0                    72.988493      4  06-04-2022  ...             Cloudy   \n",
       "1                    77.654130      3  11-03-2022  ...                Fog   \n",
       "2                    73.280283      4  02-04-2022  ...                Fog   \n",
       "3                    88.463452      2  17-02-2022  ...              Sunny   \n",
       "4                    73.935101      3  09-03-2022  ...             Stormy   \n",
       "\n",
       "  Road_traffic_density Vehicle_condition Type_of_order   Type_of_vehicle  \\\n",
       "0               Medium                 1        Drinks           scooter   \n",
       "1                  Low                 1        Drinks           scooter   \n",
       "2                  Low                 3         Snack  electric_scooter   \n",
       "3                  Low                 0        Drinks        motorcycle   \n",
       "4                  Low                 2         Snack           scooter   \n",
       "\n",
       "  multiple_deliveries Festival           City Time_taken (min) Range  \n",
       "0                 1.0       No  Metropolitian               33  35.0  \n",
       "1                 0.0       No  Metropolitian               19  35.0  \n",
       "2                 0.0       No  Metropolitian               25  35.0  \n",
       "3                 0.0       No  Metropolitian               15  35.0  \n",
       "4                 0.0       No  Metropolitian               19  35.0  \n",
       "\n",
       "[5 rows x 22 columns]"
      ]
     },
     "execution_count": 149,
     "metadata": {},
     "output_type": "execute_result"
    }
   ],
   "source": [
    "data.head()"
   ]
  },
  {
   "cell_type": "markdown",
   "id": "d4caea58-005d-41e3-8b68-7a8ebe3e49e2",
   "metadata": {},
   "source": [
    "# Realtion Between vehicle condition and average time taken"
   ]
  },
  {
   "cell_type": "code",
   "execution_count": 154,
   "id": "2c3e3eed-5625-4113-b817-f00d4c5d61e4",
   "metadata": {},
   "outputs": [
    {
     "name": "stdout",
     "output_type": "stream",
     "text": [
      "Vehicle_condition\n",
      "0    30.073109\n",
      "1    24.353673\n",
      "2    24.454394\n",
      "3    26.492308\n",
      "Name: Time_taken (min), dtype: float64\n"
     ]
    },
    {
     "data": {
      "image/png": "[encoded data removed]",
      "text/plain": [
       "<Figure size 1000x500 with 1 Axes>"
      ]
     },
     "metadata": {},
     "output_type": "display_data"
    }
   ],
   "source": [
    "vehicle_avg_time = data.groupby(\"Vehicle_condition\")[\"Time_taken (min)\"].mean()\n",
    "print(vehicle_avg_time)\n",
    "vehicle_avg_time.plot(kind ='bar', figsize=(10, 5), color='red')\n",
    "plt.title(\"Vehicle Condition vs Time Taken\")\n",
    "plt.xlabel('Vehicle Condition')\n",
    "plt.ylabel('Average Delivery Time (min)')\n",
    "plt.show()"
   ]
  },
  {
   "cell_type": "markdown",
   "id": "bd5b5095-b42d-429d-baf3-ead13b5e18af",
   "metadata": {},
   "source": [
    "# Conclusion¶\n",
    "After analysing the Zomato delivery operations dataset We got detailed insights into food delivery processes, including variables such as delivery times, delivery person ratings, order types, vehicle conditions, weather conditions, and traffic density. It encompasses data from various cities, enabling an analysis of factors influencing delivery efficiency and performance. This dataset is instrumental in understanding and optimizing the operational aspects of food delivery services."
   ]
  },
  {
   "cell_type": "code",
   "execution_count": null,
   "id": "b7e7a260-4a10-4627-82c0-70ab9584521f",
   "metadata": {},
   "outputs": [],
   "source": []
  }
 ],
 "metadata": {
  "kernelspec": {
   "display_name": "Python 3 (ipykernel)",
   "language": "python",
   "name": "python3"
  },
  "language_info": {
   "codemirror_mode": {
    "name": "ipython",
    "version": 3
   },
   "file_extension": ".py",
   "mimetype": "text/x-python",
   "name": "python",
   "nbconvert_exporter": "python",
   "pygments_lexer": "ipython3",
   "version": "3.10.11"
  }
 },
 "nbformat": 4,
 "nbformat_minor": 5
}
